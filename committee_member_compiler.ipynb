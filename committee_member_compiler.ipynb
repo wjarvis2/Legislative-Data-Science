{
 "cells": [
  {
   "cell_type": "code",
   "execution_count": 1,
   "metadata": {},
   "outputs": [],
   "source": [
    "import pandas as pd\n",
    "import pandas as pd\n",
    "import numpy as np \n",
    "from congress import Congress\n",
    "import requests \n",
    "congress = Congress('hJVtQTEGbweeIF5yKHzNlPeJpWsKfm88qoRdmcml')\n",
    "api_key = 'hJVtQTEGbweeIF5yKHzNlPeJpWsKfm88qoRdmcml'\n",
    "headers = {'X-API-KEY': api_key}\n",
    "\n",
    "#"
   ]
  },
  {
   "cell_type": "code",
   "execution_count": 2,
   "metadata": {},
   "outputs": [],
   "source": [
    "def json_request_builder(congress, chamber, committee_THOMAS_id):\n",
    "    json_request = str(congress) + '/' + str(chamber) +'/committees/' + str(committee_THOMAS_id)\n",
    "   #  json_request = '115/house/committees/HSHA'\n",
    "    r = requests.get(\n",
    "        'https://api.propublica.org/congress/v1/' + str(\n",
    "            json_request) + '.json', headers= headers)\n",
    "    print ('json request:', json_request)\n",
    "    return r.json()['results']"
   ]
  },
  {
   "cell_type": "code",
   "execution_count": 3,
   "metadata": {},
   "outputs": [],
   "source": [
    "house_comms = pd.read_csv('house_comm_members.csv')\n",
    "senate_comms = pd.read_csv('s_comm_members.csv')"
   ]
  },
  {
   "cell_type": "code",
   "execution_count": 4,
   "metadata": {},
   "outputs": [
    {
     "data": {
      "text/html": [
       "<div>\n",
       "<style scoped>\n",
       "    .dataframe tbody tr th:only-of-type {\n",
       "        vertical-align: middle;\n",
       "    }\n",
       "\n",
       "    .dataframe tbody tr th {\n",
       "        vertical-align: top;\n",
       "    }\n",
       "\n",
       "    .dataframe thead th {\n",
       "        text-align: right;\n",
       "    }\n",
       "</style>\n",
       "<table border=\"1\" class=\"dataframe\">\n",
       "  <thead>\n",
       "    <tr style=\"text-align: right;\">\n",
       "      <th></th>\n",
       "      <th>congress_number</th>\n",
       "      <th>committee_id_code</th>\n",
       "      <th>icpsr_ID</th>\n",
       "      <th>party</th>\n",
       "      <th>chamber</th>\n",
       "      <th>bioguide_id</th>\n",
       "      <th>committee_THOMAS_id</th>\n",
       "    </tr>\n",
       "  </thead>\n",
       "  <tbody>\n",
       "    <tr>\n",
       "      <th>0</th>\n",
       "      <td>93.0</td>\n",
       "      <td>102.0</td>\n",
       "      <td>7498</td>\n",
       "      <td>100.0</td>\n",
       "      <td>house</td>\n",
       "      <td>1</td>\n",
       "      <td>1</td>\n",
       "    </tr>\n",
       "  </tbody>\n",
       "</table>\n",
       "</div>"
      ],
      "text/plain": [
       "   congress_number  committee_id_code icpsr_ID  party chamber  bioguide_id  \\\n",
       "0             93.0              102.0     7498  100.0   house            1   \n",
       "\n",
       "   committee_THOMAS_id  \n",
       "0                    1  "
      ]
     },
     "execution_count": 4,
     "metadata": {},
     "output_type": "execute_result"
    }
   ],
   "source": [
    "house_comms.head(1)"
   ]
  },
  {
   "cell_type": "code",
   "execution_count": 5,
   "metadata": {},
   "outputs": [
    {
     "data": {
      "text/html": [
       "<div>\n",
       "<style scoped>\n",
       "    .dataframe tbody tr th:only-of-type {\n",
       "        vertical-align: middle;\n",
       "    }\n",
       "\n",
       "    .dataframe tbody tr th {\n",
       "        vertical-align: top;\n",
       "    }\n",
       "\n",
       "    .dataframe thead th {\n",
       "        text-align: right;\n",
       "    }\n",
       "</style>\n",
       "<table border=\"1\" class=\"dataframe\">\n",
       "  <thead>\n",
       "    <tr style=\"text-align: right;\">\n",
       "      <th></th>\n",
       "      <th>congress_number</th>\n",
       "      <th>committee_id_code</th>\n",
       "      <th>icpsr_ID</th>\n",
       "      <th>party</th>\n",
       "      <th>chamber</th>\n",
       "      <th>bioguide_id</th>\n",
       "      <th>committee_THOMAS_id</th>\n",
       "    </tr>\n",
       "  </thead>\n",
       "  <tbody>\n",
       "    <tr>\n",
       "      <th>0</th>\n",
       "      <td>93</td>\n",
       "      <td>302</td>\n",
       "      <td>6754.0</td>\n",
       "      <td>100</td>\n",
       "      <td>senate</td>\n",
       "      <td>1</td>\n",
       "      <td>1</td>\n",
       "    </tr>\n",
       "  </tbody>\n",
       "</table>\n",
       "</div>"
      ],
      "text/plain": [
       "   congress_number  committee_id_code  icpsr_ID  party chamber  bioguide_id  \\\n",
       "0               93                302    6754.0    100  senate            1   \n",
       "\n",
       "   committee_THOMAS_id  \n",
       "0                    1  "
      ]
     },
     "execution_count": 5,
     "metadata": {},
     "output_type": "execute_result"
    }
   ],
   "source": [
    "senate_comms.head(1)"
   ]
  },
  {
   "cell_type": "code",
   "execution_count": 6,
   "metadata": {},
   "outputs": [
    {
     "data": {
      "text/plain": [
       "array([ 93.,  94.,  95.,  96.,  97.,  98.,  99., 100., 101., 102., 103.,\n",
       "       104., 105., 106., 107., 108., 109., 110., 111., 112., 113., 114.,\n",
       "       115.])"
      ]
     },
     "execution_count": 6,
     "metadata": {},
     "output_type": "execute_result"
    }
   ],
   "source": [
    "house_comms['congress_number'].unique()"
   ]
  },
  {
   "cell_type": "code",
   "execution_count": 7,
   "metadata": {},
   "outputs": [
    {
     "data": {
      "text/plain": [
       "array([ 93,  94,  95,  96,  97,  98,  99, 100, 101, 102, 103, 104, 105,\n",
       "       106, 107, 108, 109, 110, 111, 112, 113, 114, 115])"
      ]
     },
     "execution_count": 7,
     "metadata": {},
     "output_type": "execute_result"
    }
   ],
   "source": [
    "senate_comms['congress_number'].unique()"
   ]
  },
  {
   "cell_type": "code",
   "execution_count": 8,
   "metadata": {},
   "outputs": [],
   "source": [
    "# still need the  current committee rolls for the 116th congress "
   ]
  },
  {
   "cell_type": "markdown",
   "metadata": {},
   "source": [
    "First, I am going to create lists of each of the THOMAS committee IDs represented in the 116th congress for each chamber."
   ]
  },
  {
   "cell_type": "code",
   "execution_count": null,
   "metadata": {},
   "outputs": [],
   "source": [
    "test = congress.committees.filter(chamber='house', congress=116)"
   ]
  },
  {
   "cell_type": "code",
   "execution_count": null,
   "metadata": {
    "scrolled": true
   },
   "outputs": [],
   "source": [
    "test "
   ]
  },
  {
   "cell_type": "code",
   "execution_count": 9,
   "metadata": {},
   "outputs": [],
   "source": [
    "def committee_THOMAS_id_lister(input_chamber,input_congress):\n",
    "    committee_ids = []\n",
    "    committees_object = congress.committees.filter(\n",
    "        chamber=input_chamber, congress=input_congress)['committees']\n",
    "    for committee_id in committees_object:\n",
    "        committee_ids.append(committee_id['id'])\n",
    "    return committee_ids\n",
    "    "
   ]
  },
  {
   "cell_type": "code",
   "execution_count": 10,
   "metadata": {},
   "outputs": [],
   "source": [
    "house_116_THOMAS_ids = committee_THOMAS_id_lister(\n",
    "    input_chamber='house', input_congress='116')\n",
    "senate_116_THOMAS_ids = committee_THOMAS_id_lister(\n",
    "    input_chamber='senate', input_congress='116')"
   ]
  },
  {
   "cell_type": "code",
   "execution_count": 11,
   "metadata": {
    "scrolled": true
   },
   "outputs": [
    {
     "data": {
      "text/plain": [
       "['HSHA',\n",
       " 'HSAG',\n",
       " 'HSAP',\n",
       " 'HSAS',\n",
       " 'HSED',\n",
       " 'HSIF',\n",
       " 'HSSO',\n",
       " 'HSBA',\n",
       " 'HSFA',\n",
       " 'HSHM',\n",
       " 'HSII',\n",
       " 'HSGO',\n",
       " 'HSRU',\n",
       " 'HSSY',\n",
       " 'HSSM',\n",
       " 'HSBU',\n",
       " 'HSJU',\n",
       " 'HSPW',\n",
       " 'HSVR',\n",
       " 'HSWM',\n",
       " 'HSIG',\n",
       " 'HSCN',\n",
       " 'HSMH']"
      ]
     },
     "execution_count": 11,
     "metadata": {},
     "output_type": "execute_result"
    }
   ],
   "source": [
    "house_116_THOMAS_ids"
   ]
  },
  {
   "cell_type": "code",
   "execution_count": 12,
   "metadata": {
    "scrolled": false
   },
   "outputs": [
    {
     "data": {
      "text/plain": [
       "['SSAF',\n",
       " 'SSAP',\n",
       " 'SSAS',\n",
       " 'SSBK',\n",
       " 'SSCM',\n",
       " 'SSEG',\n",
       " 'SSEV',\n",
       " 'SSFI',\n",
       " 'SSFR',\n",
       " 'SSHR',\n",
       " 'SSGA',\n",
       " 'SLIA',\n",
       " 'SSRA',\n",
       " 'SSSB',\n",
       " 'SSBU',\n",
       " 'SSJU',\n",
       " 'SSVA',\n",
       " 'SLET',\n",
       " 'SLIN',\n",
       " 'SPAG',\n",
       " 'SCNC']"
      ]
     },
     "execution_count": 12,
     "metadata": {},
     "output_type": "execute_result"
    }
   ],
   "source": [
    "senate_116_THOMAS_ids"
   ]
  },
  {
   "cell_type": "code",
   "execution_count": 13,
   "metadata": {},
   "outputs": [],
   "source": [
    "joint_116_THOMAS_ids = ['JSEC', 'JSLC', 'JSPR', 'JSTX']"
   ]
  },
  {
   "cell_type": "code",
   "execution_count": 14,
   "metadata": {},
   "outputs": [],
   "source": [
    "#joint_116_THOMAS_ids = committee_THOMAS_id_lister(\n",
    " #   input_chamber='joint', input_congress='116')"
   ]
  },
  {
   "cell_type": "code",
   "execution_count": null,
   "metadata": {
    "scrolled": true
   },
   "outputs": [],
   "source": [
    "test2 = json_request_builder(congress=116, chamber='house', committee_THOMAS_id= 'HSHA')"
   ]
  },
  {
   "cell_type": "code",
   "execution_count": null,
   "metadata": {
    "scrolled": true
   },
   "outputs": [],
   "source": [
    "test3 = json_request_builder(congress=116, chamber='joint', committee_THOMAS_id='JSEC')"
   ]
  },
  {
   "cell_type": "code",
   "execution_count": null,
   "metadata": {
    "scrolled": true
   },
   "outputs": [],
   "source": [
    "test2 \n",
    "\n"
   ]
  },
  {
   "cell_type": "code",
   "execution_count": null,
   "metadata": {},
   "outputs": [],
   "source": [
    "len(test2)"
   ]
  },
  {
   "cell_type": "code",
   "execution_count": 15,
   "metadata": {},
   "outputs": [],
   "source": [
    "def committee_member_lister (congress, committee_THOMAS_ids, chamber):\n",
    "    congress_number_list = []\n",
    "    chamber_list = []\n",
    "    bioguide_id_list = []\n",
    "    committee_THOMAS_id_list = []\n",
    "    for THOMAS in committee_THOMAS_ids:\n",
    "        committee_roll = json_request_builder(\n",
    "            congress, chamber, THOMAS).pop(0)['current_members']\n",
    "        for member in range(len(committee_roll)):\n",
    "            congress_number_list.append(congress)\n",
    "            chamber_list.append(chamber)\n",
    "            bioguide_id_list.append(committee_roll[member]['id'])\n",
    "            committee_THOMAS_id_list.append(THOMAS)\n",
    "            \n",
    "    data_dict = {'congress_number': congress_number_list, 'chamber': chamber_list,\n",
    "                'bioguide_id': bioguide_id_list,\n",
    "                 'committee_THOMAS_id': committee_THOMAS_id_list}\n",
    "    \n",
    "    committee_df = pd.DataFrame(data=data_dict)\n",
    "    \n",
    "    return committee_df\n"
   ]
  },
  {
   "cell_type": "code",
   "execution_count": 16,
   "metadata": {
    "scrolled": true
   },
   "outputs": [
    {
     "name": "stdout",
     "output_type": "stream",
     "text": [
      "json request: 116/house/committees/HSHA\n",
      "json request: 116/house/committees/HSAG\n",
      "json request: 116/house/committees/HSAP\n",
      "json request: 116/house/committees/HSAS\n",
      "json request: 116/house/committees/HSED\n",
      "json request: 116/house/committees/HSIF\n",
      "json request: 116/house/committees/HSSO\n",
      "json request: 116/house/committees/HSBA\n",
      "json request: 116/house/committees/HSFA\n",
      "json request: 116/house/committees/HSHM\n",
      "json request: 116/house/committees/HSII\n",
      "json request: 116/house/committees/HSGO\n",
      "json request: 116/house/committees/HSRU\n",
      "json request: 116/house/committees/HSSY\n",
      "json request: 116/house/committees/HSSM\n",
      "json request: 116/house/committees/HSBU\n",
      "json request: 116/house/committees/HSJU\n",
      "json request: 116/house/committees/HSPW\n",
      "json request: 116/house/committees/HSVR\n",
      "json request: 116/house/committees/HSWM\n",
      "json request: 116/house/committees/HSIG\n",
      "json request: 116/house/committees/HSCN\n",
      "json request: 116/house/committees/HSMH\n"
     ]
    }
   ],
   "source": [
    "house_116_comms = committee_member_lister(congress=116,\n",
    "                                          committee_THOMAS_ids=house_116_THOMAS_ids,\n",
    "                                          chamber='house')"
   ]
  },
  {
   "cell_type": "code",
   "execution_count": 17,
   "metadata": {
    "scrolled": false
   },
   "outputs": [
    {
     "name": "stdout",
     "output_type": "stream",
     "text": [
      "json request: 116/senate/committees/SSAF\n",
      "json request: 116/senate/committees/SSAP\n",
      "json request: 116/senate/committees/SSAS\n",
      "json request: 116/senate/committees/SSBK\n",
      "json request: 116/senate/committees/SSCM\n",
      "json request: 116/senate/committees/SSEG\n",
      "json request: 116/senate/committees/SSEV\n",
      "json request: 116/senate/committees/SSFI\n",
      "json request: 116/senate/committees/SSFR\n",
      "json request: 116/senate/committees/SSHR\n",
      "json request: 116/senate/committees/SSGA\n",
      "json request: 116/senate/committees/SLIA\n",
      "json request: 116/senate/committees/SSRA\n",
      "json request: 116/senate/committees/SSSB\n",
      "json request: 116/senate/committees/SSBU\n",
      "json request: 116/senate/committees/SSJU\n",
      "json request: 116/senate/committees/SSVA\n",
      "json request: 116/senate/committees/SLET\n",
      "json request: 116/senate/committees/SLIN\n",
      "json request: 116/senate/committees/SPAG\n",
      "json request: 116/senate/committees/SCNC\n"
     ]
    }
   ],
   "source": [
    "senate_116_comms = committee_member_lister(congress=116,\n",
    "                                           committee_THOMAS_ids=senate_116_THOMAS_ids,\n",
    "                                           chamber='senate')"
   ]
  },
  {
   "cell_type": "code",
   "execution_count": 113,
   "metadata": {},
   "outputs": [
    {
     "name": "stdout",
     "output_type": "stream",
     "text": [
      "json request: 116/joint/committees/JSEC\n",
      "json request: 116/joint/committees/JSLC\n",
      "json request: 116/joint/committees/JSPR\n",
      "json request: 116/joint/committees/JSTX\n"
     ]
    }
   ],
   "source": [
    "joint_116_comms = committee_member_lister(congress=116,\n",
    "                                           committee_THOMAS_ids=joint_116_THOMAS_ids,\n",
    "                                           chamber='joint')"
   ]
  },
  {
   "cell_type": "code",
   "execution_count": 19,
   "metadata": {},
   "outputs": [
    {
     "data": {
      "text/html": [
       "<div>\n",
       "<style scoped>\n",
       "    .dataframe tbody tr th:only-of-type {\n",
       "        vertical-align: middle;\n",
       "    }\n",
       "\n",
       "    .dataframe tbody tr th {\n",
       "        vertical-align: top;\n",
       "    }\n",
       "\n",
       "    .dataframe thead th {\n",
       "        text-align: right;\n",
       "    }\n",
       "</style>\n",
       "<table border=\"1\" class=\"dataframe\">\n",
       "  <thead>\n",
       "    <tr style=\"text-align: right;\">\n",
       "      <th></th>\n",
       "      <th>congress_number</th>\n",
       "      <th>chamber</th>\n",
       "      <th>bioguide_id</th>\n",
       "      <th>committee_THOMAS_id</th>\n",
       "    </tr>\n",
       "  </thead>\n",
       "  <tbody>\n",
       "    <tr>\n",
       "      <th>0</th>\n",
       "      <td>116</td>\n",
       "      <td>house</td>\n",
       "      <td>D000619</td>\n",
       "      <td>HSHA</td>\n",
       "    </tr>\n",
       "  </tbody>\n",
       "</table>\n",
       "</div>"
      ],
      "text/plain": [
       "   congress_number chamber bioguide_id committee_THOMAS_id\n",
       "0              116   house     D000619                HSHA"
      ]
     },
     "execution_count": 19,
     "metadata": {},
     "output_type": "execute_result"
    }
   ],
   "source": [
    "house_116_comms.head(1) "
   ]
  },
  {
   "cell_type": "code",
   "execution_count": 20,
   "metadata": {},
   "outputs": [
    {
     "data": {
      "text/html": [
       "<div>\n",
       "<style scoped>\n",
       "    .dataframe tbody tr th:only-of-type {\n",
       "        vertical-align: middle;\n",
       "    }\n",
       "\n",
       "    .dataframe tbody tr th {\n",
       "        vertical-align: top;\n",
       "    }\n",
       "\n",
       "    .dataframe thead th {\n",
       "        text-align: right;\n",
       "    }\n",
       "</style>\n",
       "<table border=\"1\" class=\"dataframe\">\n",
       "  <thead>\n",
       "    <tr style=\"text-align: right;\">\n",
       "      <th></th>\n",
       "      <th>congress_number</th>\n",
       "      <th>chamber</th>\n",
       "      <th>bioguide_id</th>\n",
       "      <th>committee_THOMAS_id</th>\n",
       "    </tr>\n",
       "  </thead>\n",
       "  <tbody>\n",
       "    <tr>\n",
       "      <th>0</th>\n",
       "      <td>116</td>\n",
       "      <td>senate</td>\n",
       "      <td>R000307</td>\n",
       "      <td>SSAF</td>\n",
       "    </tr>\n",
       "  </tbody>\n",
       "</table>\n",
       "</div>"
      ],
      "text/plain": [
       "   congress_number chamber bioguide_id committee_THOMAS_id\n",
       "0              116  senate     R000307                SSAF"
      ]
     },
     "execution_count": 20,
     "metadata": {},
     "output_type": "execute_result"
    }
   ],
   "source": [
    "senate_116_comms.head(1) "
   ]
  },
  {
   "cell_type": "code",
   "execution_count": 21,
   "metadata": {},
   "outputs": [
    {
     "data": {
      "text/html": [
       "<div>\n",
       "<style scoped>\n",
       "    .dataframe tbody tr th:only-of-type {\n",
       "        vertical-align: middle;\n",
       "    }\n",
       "\n",
       "    .dataframe tbody tr th {\n",
       "        vertical-align: top;\n",
       "    }\n",
       "\n",
       "    .dataframe thead th {\n",
       "        text-align: right;\n",
       "    }\n",
       "</style>\n",
       "<table border=\"1\" class=\"dataframe\">\n",
       "  <thead>\n",
       "    <tr style=\"text-align: right;\">\n",
       "      <th></th>\n",
       "      <th>congress_number</th>\n",
       "      <th>chamber</th>\n",
       "      <th>bioguide_id</th>\n",
       "      <th>committee_THOMAS_id</th>\n",
       "    </tr>\n",
       "  </thead>\n",
       "  <tbody>\n",
       "    <tr>\n",
       "      <th>0</th>\n",
       "      <td>116</td>\n",
       "      <td>joint</td>\n",
       "      <td>L000577</td>\n",
       "      <td>JSEC</td>\n",
       "    </tr>\n",
       "  </tbody>\n",
       "</table>\n",
       "</div>"
      ],
      "text/plain": [
       "   congress_number chamber bioguide_id committee_THOMAS_id\n",
       "0              116   joint     L000577                JSEC"
      ]
     },
     "execution_count": 21,
     "metadata": {},
     "output_type": "execute_result"
    }
   ],
   "source": [
    "joint_116_comms.head(1)"
   ]
  },
  {
   "cell_type": "markdown",
   "metadata": {},
   "source": [
    "Now I just need to add bioguide ids and THOMAS ids to all of the committee membership dataframes that only have ICPSR ids"
   ]
  },
  {
   "cell_type": "code",
   "execution_count": 22,
   "metadata": {},
   "outputs": [
    {
     "data": {
      "text/html": [
       "<div>\n",
       "<style scoped>\n",
       "    .dataframe tbody tr th:only-of-type {\n",
       "        vertical-align: middle;\n",
       "    }\n",
       "\n",
       "    .dataframe tbody tr th {\n",
       "        vertical-align: top;\n",
       "    }\n",
       "\n",
       "    .dataframe thead th {\n",
       "        text-align: right;\n",
       "    }\n",
       "</style>\n",
       "<table border=\"1\" class=\"dataframe\">\n",
       "  <thead>\n",
       "    <tr style=\"text-align: right;\">\n",
       "      <th></th>\n",
       "      <th>congress_number</th>\n",
       "      <th>committee_id_code</th>\n",
       "      <th>icpsr_ID</th>\n",
       "      <th>party</th>\n",
       "      <th>chamber</th>\n",
       "      <th>bioguide_id</th>\n",
       "      <th>committee_THOMAS_id</th>\n",
       "    </tr>\n",
       "  </thead>\n",
       "  <tbody>\n",
       "    <tr>\n",
       "      <th>0</th>\n",
       "      <td>93.0</td>\n",
       "      <td>102.0</td>\n",
       "      <td>7498</td>\n",
       "      <td>100.0</td>\n",
       "      <td>house</td>\n",
       "      <td>1</td>\n",
       "      <td>1</td>\n",
       "    </tr>\n",
       "  </tbody>\n",
       "</table>\n",
       "</div>"
      ],
      "text/plain": [
       "   congress_number  committee_id_code icpsr_ID  party chamber  bioguide_id  \\\n",
       "0             93.0              102.0     7498  100.0   house            1   \n",
       "\n",
       "   committee_THOMAS_id  \n",
       "0                    1  "
      ]
     },
     "execution_count": 22,
     "metadata": {},
     "output_type": "execute_result"
    }
   ],
   "source": [
    "house_comms.head(1)"
   ]
  },
  {
   "cell_type": "code",
   "execution_count": 23,
   "metadata": {},
   "outputs": [
    {
     "data": {
      "text/html": [
       "<div>\n",
       "<style scoped>\n",
       "    .dataframe tbody tr th:only-of-type {\n",
       "        vertical-align: middle;\n",
       "    }\n",
       "\n",
       "    .dataframe tbody tr th {\n",
       "        vertical-align: top;\n",
       "    }\n",
       "\n",
       "    .dataframe thead th {\n",
       "        text-align: right;\n",
       "    }\n",
       "</style>\n",
       "<table border=\"1\" class=\"dataframe\">\n",
       "  <thead>\n",
       "    <tr style=\"text-align: right;\">\n",
       "      <th></th>\n",
       "      <th>congress_number</th>\n",
       "      <th>committee_id_code</th>\n",
       "      <th>icpsr_ID</th>\n",
       "      <th>party</th>\n",
       "      <th>chamber</th>\n",
       "      <th>bioguide_id</th>\n",
       "      <th>committee_THOMAS_id</th>\n",
       "    </tr>\n",
       "  </thead>\n",
       "  <tbody>\n",
       "    <tr>\n",
       "      <th>0</th>\n",
       "      <td>93</td>\n",
       "      <td>302</td>\n",
       "      <td>6754.0</td>\n",
       "      <td>100</td>\n",
       "      <td>senate</td>\n",
       "      <td>1</td>\n",
       "      <td>1</td>\n",
       "    </tr>\n",
       "  </tbody>\n",
       "</table>\n",
       "</div>"
      ],
      "text/plain": [
       "   congress_number  committee_id_code  icpsr_ID  party chamber  bioguide_id  \\\n",
       "0               93                302    6754.0    100  senate            1   \n",
       "\n",
       "   committee_THOMAS_id  \n",
       "0                    1  "
      ]
     },
     "execution_count": 23,
     "metadata": {},
     "output_type": "execute_result"
    }
   ],
   "source": [
    "senate_comms.head(1)"
   ]
  },
  {
   "cell_type": "code",
   "execution_count": 24,
   "metadata": {},
   "outputs": [],
   "source": [
    "icpsr_to_THOMAS = pd.read_csv('icpsr_to_THOMAS - Sheet1.csv')"
   ]
  },
  {
   "cell_type": "code",
   "execution_count": 25,
   "metadata": {},
   "outputs": [
    {
     "data": {
      "text/html": [
       "<div>\n",
       "<style scoped>\n",
       "    .dataframe tbody tr th:only-of-type {\n",
       "        vertical-align: middle;\n",
       "    }\n",
       "\n",
       "    .dataframe tbody tr th {\n",
       "        vertical-align: top;\n",
       "    }\n",
       "\n",
       "    .dataframe thead th {\n",
       "        text-align: right;\n",
       "    }\n",
       "</style>\n",
       "<table border=\"1\" class=\"dataframe\">\n",
       "  <thead>\n",
       "    <tr style=\"text-align: right;\">\n",
       "      <th></th>\n",
       "      <th>icpsr_comm_code</th>\n",
       "      <th>THOMAS_codes</th>\n",
       "    </tr>\n",
       "  </thead>\n",
       "  <tbody>\n",
       "    <tr>\n",
       "      <th>0</th>\n",
       "      <td>102</td>\n",
       "      <td>HSAG</td>\n",
       "    </tr>\n",
       "    <tr>\n",
       "      <th>1</th>\n",
       "      <td>104</td>\n",
       "      <td>HSAP</td>\n",
       "    </tr>\n",
       "    <tr>\n",
       "      <th>2</th>\n",
       "      <td>106</td>\n",
       "      <td>HSAS</td>\n",
       "    </tr>\n",
       "  </tbody>\n",
       "</table>\n",
       "</div>"
      ],
      "text/plain": [
       "   icpsr_comm_code THOMAS_codes\n",
       "0              102         HSAG\n",
       "1              104         HSAP\n",
       "2              106         HSAS"
      ]
     },
     "execution_count": 25,
     "metadata": {},
     "output_type": "execute_result"
    }
   ],
   "source": [
    "icpsr_to_THOMAS.head(3)"
   ]
  },
  {
   "cell_type": "code",
   "execution_count": 26,
   "metadata": {},
   "outputs": [],
   "source": [
    "house_committees = pd.merge(house_comms, icpsr_to_THOMAS, how='left',\n",
    "                          left_on='committee_id_code', right_on='icpsr_comm_code')"
   ]
  },
  {
   "cell_type": "code",
   "execution_count": 27,
   "metadata": {
    "scrolled": true
   },
   "outputs": [
    {
     "data": {
      "text/html": [
       "<div>\n",
       "<style scoped>\n",
       "    .dataframe tbody tr th:only-of-type {\n",
       "        vertical-align: middle;\n",
       "    }\n",
       "\n",
       "    .dataframe tbody tr th {\n",
       "        vertical-align: top;\n",
       "    }\n",
       "\n",
       "    .dataframe thead th {\n",
       "        text-align: right;\n",
       "    }\n",
       "</style>\n",
       "<table border=\"1\" class=\"dataframe\">\n",
       "  <thead>\n",
       "    <tr style=\"text-align: right;\">\n",
       "      <th></th>\n",
       "      <th>congress_number</th>\n",
       "      <th>committee_id_code</th>\n",
       "      <th>icpsr_ID</th>\n",
       "      <th>party</th>\n",
       "      <th>chamber</th>\n",
       "      <th>bioguide_id</th>\n",
       "      <th>committee_THOMAS_id</th>\n",
       "      <th>icpsr_comm_code</th>\n",
       "      <th>THOMAS_codes</th>\n",
       "    </tr>\n",
       "  </thead>\n",
       "  <tbody>\n",
       "    <tr>\n",
       "      <th>0</th>\n",
       "      <td>93.0</td>\n",
       "      <td>102.0</td>\n",
       "      <td>7498</td>\n",
       "      <td>100.0</td>\n",
       "      <td>house</td>\n",
       "      <td>1</td>\n",
       "      <td>1</td>\n",
       "      <td>102</td>\n",
       "      <td>HSAG</td>\n",
       "    </tr>\n",
       "  </tbody>\n",
       "</table>\n",
       "</div>"
      ],
      "text/plain": [
       "   congress_number  committee_id_code icpsr_ID  party chamber  bioguide_id  \\\n",
       "0             93.0              102.0     7498  100.0   house            1   \n",
       "\n",
       "   committee_THOMAS_id  icpsr_comm_code THOMAS_codes  \n",
       "0                    1              102         HSAG  "
      ]
     },
     "execution_count": 27,
     "metadata": {},
     "output_type": "execute_result"
    }
   ],
   "source": [
    "house_committees.head(1)"
   ]
  },
  {
   "cell_type": "code",
   "execution_count": 28,
   "metadata": {},
   "outputs": [],
   "source": [
    "house_committees = house_committees.drop(columns=['committee_THOMAS_id'])"
   ]
  },
  {
   "cell_type": "code",
   "execution_count": 29,
   "metadata": {},
   "outputs": [
    {
     "data": {
      "text/html": [
       "<div>\n",
       "<style scoped>\n",
       "    .dataframe tbody tr th:only-of-type {\n",
       "        vertical-align: middle;\n",
       "    }\n",
       "\n",
       "    .dataframe tbody tr th {\n",
       "        vertical-align: top;\n",
       "    }\n",
       "\n",
       "    .dataframe thead th {\n",
       "        text-align: right;\n",
       "    }\n",
       "</style>\n",
       "<table border=\"1\" class=\"dataframe\">\n",
       "  <thead>\n",
       "    <tr style=\"text-align: right;\">\n",
       "      <th></th>\n",
       "      <th>congress_number</th>\n",
       "      <th>committee_id_code</th>\n",
       "      <th>icpsr_ID</th>\n",
       "      <th>party</th>\n",
       "      <th>chamber</th>\n",
       "      <th>bioguide_id</th>\n",
       "      <th>icpsr_comm_code</th>\n",
       "      <th>THOMAS_codes</th>\n",
       "    </tr>\n",
       "  </thead>\n",
       "  <tbody>\n",
       "    <tr>\n",
       "      <th>0</th>\n",
       "      <td>93.0</td>\n",
       "      <td>102.0</td>\n",
       "      <td>7498</td>\n",
       "      <td>100.0</td>\n",
       "      <td>house</td>\n",
       "      <td>1</td>\n",
       "      <td>102</td>\n",
       "      <td>HSAG</td>\n",
       "    </tr>\n",
       "  </tbody>\n",
       "</table>\n",
       "</div>"
      ],
      "text/plain": [
       "   congress_number  committee_id_code icpsr_ID  party chamber  bioguide_id  \\\n",
       "0             93.0              102.0     7498  100.0   house            1   \n",
       "\n",
       "   icpsr_comm_code THOMAS_codes  \n",
       "0              102         HSAG  "
      ]
     },
     "execution_count": 29,
     "metadata": {},
     "output_type": "execute_result"
    }
   ],
   "source": [
    "house_committees.head(1)"
   ]
  },
  {
   "cell_type": "code",
   "execution_count": 30,
   "metadata": {},
   "outputs": [],
   "source": [
    "senate_committees = pd.merge(senate_comms, icpsr_to_THOMAS, how='left',\n",
    "                          left_on='committee_id_code', right_on='icpsr_comm_code')"
   ]
  },
  {
   "cell_type": "code",
   "execution_count": 31,
   "metadata": {
    "scrolled": true
   },
   "outputs": [
    {
     "data": {
      "text/html": [
       "<div>\n",
       "<style scoped>\n",
       "    .dataframe tbody tr th:only-of-type {\n",
       "        vertical-align: middle;\n",
       "    }\n",
       "\n",
       "    .dataframe tbody tr th {\n",
       "        vertical-align: top;\n",
       "    }\n",
       "\n",
       "    .dataframe thead th {\n",
       "        text-align: right;\n",
       "    }\n",
       "</style>\n",
       "<table border=\"1\" class=\"dataframe\">\n",
       "  <thead>\n",
       "    <tr style=\"text-align: right;\">\n",
       "      <th></th>\n",
       "      <th>congress_number</th>\n",
       "      <th>committee_id_code</th>\n",
       "      <th>icpsr_ID</th>\n",
       "      <th>party</th>\n",
       "      <th>chamber</th>\n",
       "      <th>bioguide_id</th>\n",
       "      <th>committee_THOMAS_id</th>\n",
       "      <th>icpsr_comm_code</th>\n",
       "      <th>THOMAS_codes</th>\n",
       "    </tr>\n",
       "  </thead>\n",
       "  <tbody>\n",
       "    <tr>\n",
       "      <th>0</th>\n",
       "      <td>93</td>\n",
       "      <td>302</td>\n",
       "      <td>6754.0</td>\n",
       "      <td>100</td>\n",
       "      <td>senate</td>\n",
       "      <td>1</td>\n",
       "      <td>1</td>\n",
       "      <td>302</td>\n",
       "      <td>SSCM</td>\n",
       "    </tr>\n",
       "  </tbody>\n",
       "</table>\n",
       "</div>"
      ],
      "text/plain": [
       "   congress_number  committee_id_code  icpsr_ID  party chamber  bioguide_id  \\\n",
       "0               93                302    6754.0    100  senate            1   \n",
       "\n",
       "   committee_THOMAS_id  icpsr_comm_code THOMAS_codes  \n",
       "0                    1              302         SSCM  "
      ]
     },
     "execution_count": 31,
     "metadata": {},
     "output_type": "execute_result"
    }
   ],
   "source": [
    "senate_committees.head(1)"
   ]
  },
  {
   "cell_type": "code",
   "execution_count": 32,
   "metadata": {},
   "outputs": [],
   "source": [
    "senate_committees = senate_committees.drop(columns=['committee_THOMAS_id'])"
   ]
  },
  {
   "cell_type": "code",
   "execution_count": 33,
   "metadata": {},
   "outputs": [
    {
     "data": {
      "text/html": [
       "<div>\n",
       "<style scoped>\n",
       "    .dataframe tbody tr th:only-of-type {\n",
       "        vertical-align: middle;\n",
       "    }\n",
       "\n",
       "    .dataframe tbody tr th {\n",
       "        vertical-align: top;\n",
       "    }\n",
       "\n",
       "    .dataframe thead th {\n",
       "        text-align: right;\n",
       "    }\n",
       "</style>\n",
       "<table border=\"1\" class=\"dataframe\">\n",
       "  <thead>\n",
       "    <tr style=\"text-align: right;\">\n",
       "      <th></th>\n",
       "      <th>congress_number</th>\n",
       "      <th>committee_id_code</th>\n",
       "      <th>icpsr_ID</th>\n",
       "      <th>party</th>\n",
       "      <th>chamber</th>\n",
       "      <th>bioguide_id</th>\n",
       "      <th>icpsr_comm_code</th>\n",
       "      <th>THOMAS_codes</th>\n",
       "    </tr>\n",
       "  </thead>\n",
       "  <tbody>\n",
       "    <tr>\n",
       "      <th>0</th>\n",
       "      <td>93</td>\n",
       "      <td>302</td>\n",
       "      <td>6754.0</td>\n",
       "      <td>100</td>\n",
       "      <td>senate</td>\n",
       "      <td>1</td>\n",
       "      <td>302</td>\n",
       "      <td>SSCM</td>\n",
       "    </tr>\n",
       "  </tbody>\n",
       "</table>\n",
       "</div>"
      ],
      "text/plain": [
       "   congress_number  committee_id_code  icpsr_ID  party chamber  bioguide_id  \\\n",
       "0               93                302    6754.0    100  senate            1   \n",
       "\n",
       "   icpsr_comm_code THOMAS_codes  \n",
       "0              302         SSCM  "
      ]
     },
     "execution_count": 33,
     "metadata": {},
     "output_type": "execute_result"
    }
   ],
   "source": [
    "senate_committees.head(1)"
   ]
  },
  {
   "cell_type": "code",
   "execution_count": 34,
   "metadata": {
    "scrolled": true
   },
   "outputs": [
    {
     "data": {
      "text/plain": [
       "congress_number      float64\n",
       "committee_id_code    float64\n",
       "icpsr_ID              object\n",
       "party                float64\n",
       "chamber               object\n",
       "bioguide_id            int64\n",
       "icpsr_comm_code        int64\n",
       "THOMAS_codes          object\n",
       "dtype: object"
      ]
     },
     "execution_count": 34,
     "metadata": {},
     "output_type": "execute_result"
    }
   ],
   "source": [
    "house_committees.dtypes"
   ]
  },
  {
   "cell_type": "code",
   "execution_count": 35,
   "metadata": {},
   "outputs": [
    {
     "data": {
      "text/plain": [
       "congress_number        int64\n",
       "committee_id_code      int64\n",
       "icpsr_ID             float64\n",
       "party                  int64\n",
       "chamber               object\n",
       "bioguide_id            int64\n",
       "icpsr_comm_code        int64\n",
       "THOMAS_codes          object\n",
       "dtype: object"
      ]
     },
     "execution_count": 35,
     "metadata": {},
     "output_type": "execute_result"
    }
   ],
   "source": [
    "senate_committees.dtypes"
   ]
  },
  {
   "cell_type": "code",
   "execution_count": 36,
   "metadata": {},
   "outputs": [],
   "source": [
    "h_icpsr_to_bioguide = pd.read_csv('house_ids.csv')\n",
    "s_icpsr_to_bioguide = pd.read_csv('senate_ids.csv')"
   ]
  },
  {
   "cell_type": "code",
   "execution_count": 37,
   "metadata": {
    "scrolled": true
   },
   "outputs": [
    {
     "data": {
      "text/html": [
       "<div>\n",
       "<style scoped>\n",
       "    .dataframe tbody tr th:only-of-type {\n",
       "        vertical-align: middle;\n",
       "    }\n",
       "\n",
       "    .dataframe tbody tr th {\n",
       "        vertical-align: top;\n",
       "    }\n",
       "\n",
       "    .dataframe thead th {\n",
       "        text-align: right;\n",
       "    }\n",
       "</style>\n",
       "<table border=\"1\" class=\"dataframe\">\n",
       "  <thead>\n",
       "    <tr style=\"text-align: right;\">\n",
       "      <th></th>\n",
       "      <th>icpsr_id</th>\n",
       "      <th>id</th>\n",
       "    </tr>\n",
       "  </thead>\n",
       "  <tbody>\n",
       "    <tr>\n",
       "      <th>0</th>\n",
       "      <td>15244.0</td>\n",
       "      <td>A000014</td>\n",
       "    </tr>\n",
       "  </tbody>\n",
       "</table>\n",
       "</div>"
      ],
      "text/plain": [
       "   icpsr_id       id\n",
       "0   15244.0  A000014"
      ]
     },
     "execution_count": 37,
     "metadata": {},
     "output_type": "execute_result"
    }
   ],
   "source": [
    "h_icpsr_to_bioguide.head(1)"
   ]
  },
  {
   "cell_type": "code",
   "execution_count": 38,
   "metadata": {
    "scrolled": false
   },
   "outputs": [
    {
     "data": {
      "text/plain": [
       "icpsr_id    float64\n",
       "id           object\n",
       "dtype: object"
      ]
     },
     "execution_count": 38,
     "metadata": {},
     "output_type": "execute_result"
    }
   ],
   "source": [
    "h_icpsr_to_bioguide.dtypes"
   ]
  },
  {
   "cell_type": "code",
   "execution_count": 39,
   "metadata": {},
   "outputs": [
    {
     "data": {
      "text/plain": [
       "icpsr_id    float64\n",
       "id           object\n",
       "dtype: object"
      ]
     },
     "execution_count": 39,
     "metadata": {},
     "output_type": "execute_result"
    }
   ],
   "source": [
    "s_icpsr_to_bioguide.dtypes"
   ]
  },
  {
   "cell_type": "code",
   "execution_count": 40,
   "metadata": {},
   "outputs": [],
   "source": [
    "#h_icpsr_to_bioguide['icpsr_id'] = h_icpsr_to_bioguide['icpsr_id'].astype(object)"
   ]
  },
  {
   "cell_type": "code",
   "execution_count": 41,
   "metadata": {
    "scrolled": false
   },
   "outputs": [
    {
     "data": {
      "text/html": [
       "<div>\n",
       "<style scoped>\n",
       "    .dataframe tbody tr th:only-of-type {\n",
       "        vertical-align: middle;\n",
       "    }\n",
       "\n",
       "    .dataframe tbody tr th {\n",
       "        vertical-align: top;\n",
       "    }\n",
       "\n",
       "    .dataframe thead th {\n",
       "        text-align: right;\n",
       "    }\n",
       "</style>\n",
       "<table border=\"1\" class=\"dataframe\">\n",
       "  <thead>\n",
       "    <tr style=\"text-align: right;\">\n",
       "      <th></th>\n",
       "      <th>icpsr_id</th>\n",
       "      <th>id</th>\n",
       "    </tr>\n",
       "  </thead>\n",
       "  <tbody>\n",
       "    <tr>\n",
       "      <th>0</th>\n",
       "      <td>52.0</td>\n",
       "      <td>A000062</td>\n",
       "    </tr>\n",
       "  </tbody>\n",
       "</table>\n",
       "</div>"
      ],
      "text/plain": [
       "   icpsr_id       id\n",
       "0      52.0  A000062"
      ]
     },
     "execution_count": 41,
     "metadata": {},
     "output_type": "execute_result"
    }
   ],
   "source": [
    "s_icpsr_to_bioguide.head(1)"
   ]
  },
  {
   "cell_type": "code",
   "execution_count": 42,
   "metadata": {},
   "outputs": [],
   "source": [
    "house_null_df = house_committees[house_committees.isnull().any(axis=1)]"
   ]
  },
  {
   "cell_type": "code",
   "execution_count": 45,
   "metadata": {
    "scrolled": true
   },
   "outputs": [
    {
     "data": {
      "text/html": [
       "<div>\n",
       "<style scoped>\n",
       "    .dataframe tbody tr th:only-of-type {\n",
       "        vertical-align: middle;\n",
       "    }\n",
       "\n",
       "    .dataframe tbody tr th {\n",
       "        vertical-align: top;\n",
       "    }\n",
       "\n",
       "    .dataframe thead th {\n",
       "        text-align: right;\n",
       "    }\n",
       "</style>\n",
       "<table border=\"1\" class=\"dataframe\">\n",
       "  <thead>\n",
       "    <tr style=\"text-align: right;\">\n",
       "      <th></th>\n",
       "      <th>congress_number</th>\n",
       "      <th>committee_id_code</th>\n",
       "      <th>icpsr_ID</th>\n",
       "      <th>party</th>\n",
       "      <th>chamber</th>\n",
       "      <th>bioguide_id</th>\n",
       "      <th>icpsr_comm_code</th>\n",
       "      <th>THOMAS_codes</th>\n",
       "    </tr>\n",
       "  </thead>\n",
       "  <tbody>\n",
       "    <tr>\n",
       "      <th>745</th>\n",
       "      <td>93.0</td>\n",
       "      <td>771.0</td>\n",
       "      <td>824</td>\n",
       "      <td>100.0</td>\n",
       "      <td>house</td>\n",
       "      <td>1</td>\n",
       "      <td>771</td>\n",
       "      <td>NaN</td>\n",
       "    </tr>\n",
       "    <tr>\n",
       "      <th>1546</th>\n",
       "      <td>94.0</td>\n",
       "      <td>770.0</td>\n",
       "      <td>14410</td>\n",
       "      <td>200.0</td>\n",
       "      <td>house</td>\n",
       "      <td>1</td>\n",
       "      <td>770</td>\n",
       "      <td>NaN</td>\n",
       "    </tr>\n",
       "    <tr>\n",
       "      <th>1547</th>\n",
       "      <td>94.0</td>\n",
       "      <td>770.0</td>\n",
       "      <td>14435</td>\n",
       "      <td>100.0</td>\n",
       "      <td>house</td>\n",
       "      <td>1</td>\n",
       "      <td>770</td>\n",
       "      <td>NaN</td>\n",
       "    </tr>\n",
       "    <tr>\n",
       "      <th>1548</th>\n",
       "      <td>94.0</td>\n",
       "      <td>770.0</td>\n",
       "      <td>14442</td>\n",
       "      <td>100.0</td>\n",
       "      <td>house</td>\n",
       "      <td>1</td>\n",
       "      <td>770</td>\n",
       "      <td>NaN</td>\n",
       "    </tr>\n",
       "    <tr>\n",
       "      <th>2349</th>\n",
       "      <td>95.0</td>\n",
       "      <td>772.0</td>\n",
       "      <td>10700</td>\n",
       "      <td>100.0</td>\n",
       "      <td>house</td>\n",
       "      <td>1</td>\n",
       "      <td>772</td>\n",
       "      <td>NaN</td>\n",
       "    </tr>\n",
       "  </tbody>\n",
       "</table>\n",
       "</div>"
      ],
      "text/plain": [
       "      congress_number  committee_id_code icpsr_ID  party chamber  bioguide_id  \\\n",
       "745              93.0              771.0      824  100.0   house            1   \n",
       "1546             94.0              770.0    14410  200.0   house            1   \n",
       "1547             94.0              770.0    14435  100.0   house            1   \n",
       "1548             94.0              770.0    14442  100.0   house            1   \n",
       "2349             95.0              772.0    10700  100.0   house            1   \n",
       "\n",
       "      icpsr_comm_code THOMAS_codes  \n",
       "745               771          NaN  \n",
       "1546              770          NaN  \n",
       "1547              770          NaN  \n",
       "1548              770          NaN  \n",
       "2349              772          NaN  "
      ]
     },
     "execution_count": 45,
     "metadata": {},
     "output_type": "execute_result"
    }
   ],
   "source": [
    "house_null_df.head(5)"
   ]
  },
  {
   "cell_type": "code",
   "execution_count": 46,
   "metadata": {},
   "outputs": [],
   "source": [
    "house_committees = house_committees.dropna(axis=0)"
   ]
  },
  {
   "cell_type": "code",
   "execution_count": 47,
   "metadata": {
    "scrolled": true
   },
   "outputs": [
    {
     "data": {
      "text/plain": [
       "congress_number      float64\n",
       "committee_id_code    float64\n",
       "icpsr_ID              object\n",
       "party                float64\n",
       "chamber               object\n",
       "bioguide_id            int64\n",
       "icpsr_comm_code        int64\n",
       "THOMAS_codes          object\n",
       "dtype: object"
      ]
     },
     "execution_count": 47,
     "metadata": {},
     "output_type": "execute_result"
    }
   ],
   "source": [
    "house_committees.dtypes"
   ]
  },
  {
   "cell_type": "code",
   "execution_count": 48,
   "metadata": {
    "scrolled": true
   },
   "outputs": [
    {
     "data": {
      "text/plain": [
       "congress_number      0\n",
       "committee_id_code    0\n",
       "icpsr_ID             0\n",
       "party                0\n",
       "chamber              0\n",
       "bioguide_id          0\n",
       "icpsr_comm_code      0\n",
       "THOMAS_codes         0\n",
       "dtype: int64"
      ]
     },
     "execution_count": 48,
     "metadata": {},
     "output_type": "execute_result"
    }
   ],
   "source": [
    "house_committees.isnull().sum()"
   ]
  },
  {
   "cell_type": "code",
   "execution_count": 49,
   "metadata": {
    "scrolled": true
   },
   "outputs": [],
   "source": [
    "house_committees['icpsr_ID'] = pd.to_numeric(house_committees['icpsr_ID'], errors='coerce')"
   ]
  },
  {
   "cell_type": "code",
   "execution_count": 50,
   "metadata": {
    "scrolled": true
   },
   "outputs": [],
   "source": [
    "house_committee_data = pd.merge(house_committees, h_icpsr_to_bioguide, how='left',\n",
    "                     left_on='icpsr_ID',right_on='icpsr_id')"
   ]
  },
  {
   "cell_type": "code",
   "execution_count": 51,
   "metadata": {},
   "outputs": [],
   "source": [
    "senate_committee_data = pd.merge(senate_committees, s_icpsr_to_bioguide, how='left',\n",
    "                     left_on='icpsr_ID',right_on='icpsr_id')"
   ]
  },
  {
   "cell_type": "code",
   "execution_count": 52,
   "metadata": {},
   "outputs": [],
   "source": [
    "#house_committee_data = house_committee_data.dropna(axis=0)\n",
    "#senate_committee_data = senate_committee_data.dropna(axis=0)"
   ]
  },
  {
   "cell_type": "code",
   "execution_count": 53,
   "metadata": {},
   "outputs": [
    {
     "data": {
      "text/plain": [
       "20156"
      ]
     },
     "execution_count": 53,
     "metadata": {},
     "output_type": "execute_result"
    }
   ],
   "source": [
    "len(house_committee_data)"
   ]
  },
  {
   "cell_type": "code",
   "execution_count": 54,
   "metadata": {},
   "outputs": [
    {
     "data": {
      "text/plain": [
       "8469"
      ]
     },
     "execution_count": 54,
     "metadata": {},
     "output_type": "execute_result"
    }
   ],
   "source": [
    "len(senate_committee_data)"
   ]
  },
  {
   "cell_type": "code",
   "execution_count": 55,
   "metadata": {},
   "outputs": [
    {
     "data": {
      "text/html": [
       "<div>\n",
       "<style scoped>\n",
       "    .dataframe tbody tr th:only-of-type {\n",
       "        vertical-align: middle;\n",
       "    }\n",
       "\n",
       "    .dataframe tbody tr th {\n",
       "        vertical-align: top;\n",
       "    }\n",
       "\n",
       "    .dataframe thead th {\n",
       "        text-align: right;\n",
       "    }\n",
       "</style>\n",
       "<table border=\"1\" class=\"dataframe\">\n",
       "  <thead>\n",
       "    <tr style=\"text-align: right;\">\n",
       "      <th></th>\n",
       "      <th>congress_number</th>\n",
       "      <th>committee_id_code</th>\n",
       "      <th>icpsr_ID</th>\n",
       "      <th>party</th>\n",
       "      <th>chamber</th>\n",
       "      <th>bioguide_id</th>\n",
       "      <th>icpsr_comm_code</th>\n",
       "      <th>THOMAS_codes</th>\n",
       "      <th>icpsr_id</th>\n",
       "      <th>id</th>\n",
       "    </tr>\n",
       "  </thead>\n",
       "  <tbody>\n",
       "    <tr>\n",
       "      <th>0</th>\n",
       "      <td>93.0</td>\n",
       "      <td>102.0</td>\n",
       "      <td>7498.0</td>\n",
       "      <td>100.0</td>\n",
       "      <td>house</td>\n",
       "      <td>1</td>\n",
       "      <td>102</td>\n",
       "      <td>HSAG</td>\n",
       "      <td>NaN</td>\n",
       "      <td>NaN</td>\n",
       "    </tr>\n",
       "  </tbody>\n",
       "</table>\n",
       "</div>"
      ],
      "text/plain": [
       "   congress_number  committee_id_code  icpsr_ID  party chamber  bioguide_id  \\\n",
       "0             93.0              102.0    7498.0  100.0   house            1   \n",
       "\n",
       "   icpsr_comm_code THOMAS_codes  icpsr_id   id  \n",
       "0              102         HSAG       NaN  NaN  "
      ]
     },
     "execution_count": 55,
     "metadata": {},
     "output_type": "execute_result"
    }
   ],
   "source": [
    "house_committee_data.head(1)"
   ]
  },
  {
   "cell_type": "code",
   "execution_count": 56,
   "metadata": {},
   "outputs": [
    {
     "data": {
      "text/html": [
       "<div>\n",
       "<style scoped>\n",
       "    .dataframe tbody tr th:only-of-type {\n",
       "        vertical-align: middle;\n",
       "    }\n",
       "\n",
       "    .dataframe tbody tr th {\n",
       "        vertical-align: top;\n",
       "    }\n",
       "\n",
       "    .dataframe thead th {\n",
       "        text-align: right;\n",
       "    }\n",
       "</style>\n",
       "<table border=\"1\" class=\"dataframe\">\n",
       "  <thead>\n",
       "    <tr style=\"text-align: right;\">\n",
       "      <th></th>\n",
       "      <th>congress_number</th>\n",
       "      <th>committee_id_code</th>\n",
       "      <th>icpsr_ID</th>\n",
       "      <th>party</th>\n",
       "      <th>chamber</th>\n",
       "      <th>bioguide_id</th>\n",
       "      <th>icpsr_comm_code</th>\n",
       "      <th>THOMAS_codes</th>\n",
       "      <th>icpsr_id</th>\n",
       "      <th>id</th>\n",
       "    </tr>\n",
       "  </thead>\n",
       "  <tbody>\n",
       "    <tr>\n",
       "      <th>0</th>\n",
       "      <td>93</td>\n",
       "      <td>302</td>\n",
       "      <td>6754.0</td>\n",
       "      <td>100</td>\n",
       "      <td>senate</td>\n",
       "      <td>1</td>\n",
       "      <td>302</td>\n",
       "      <td>SSCM</td>\n",
       "      <td>6754.0</td>\n",
       "      <td>M001033</td>\n",
       "    </tr>\n",
       "  </tbody>\n",
       "</table>\n",
       "</div>"
      ],
      "text/plain": [
       "   congress_number  committee_id_code  icpsr_ID  party chamber  bioguide_id  \\\n",
       "0               93                302    6754.0    100  senate            1   \n",
       "\n",
       "   icpsr_comm_code THOMAS_codes  icpsr_id       id  \n",
       "0              302         SSCM    6754.0  M001033  "
      ]
     },
     "execution_count": 56,
     "metadata": {},
     "output_type": "execute_result"
    }
   ],
   "source": [
    "senate_committee_data.head(1)"
   ]
  },
  {
   "cell_type": "code",
   "execution_count": 57,
   "metadata": {
    "scrolled": true
   },
   "outputs": [
    {
     "data": {
      "text/plain": [
       "congress_number      float64\n",
       "committee_id_code    float64\n",
       "icpsr_ID             float64\n",
       "party                float64\n",
       "chamber               object\n",
       "bioguide_id            int64\n",
       "icpsr_comm_code        int64\n",
       "THOMAS_codes          object\n",
       "icpsr_id             float64\n",
       "id                    object\n",
       "dtype: object"
      ]
     },
     "execution_count": 57,
     "metadata": {},
     "output_type": "execute_result"
    }
   ],
   "source": [
    "house_committee_data.dtypes"
   ]
  },
  {
   "cell_type": "code",
   "execution_count": 58,
   "metadata": {},
   "outputs": [
    {
     "data": {
      "text/plain": [
       "congress_number        int64\n",
       "committee_id_code      int64\n",
       "icpsr_ID             float64\n",
       "party                  int64\n",
       "chamber               object\n",
       "bioguide_id            int64\n",
       "icpsr_comm_code        int64\n",
       "THOMAS_codes          object\n",
       "icpsr_id             float64\n",
       "id                    object\n",
       "dtype: object"
      ]
     },
     "execution_count": 58,
     "metadata": {},
     "output_type": "execute_result"
    }
   ],
   "source": [
    "senate_committee_data.dtypes"
   ]
  },
  {
   "cell_type": "code",
   "execution_count": 59,
   "metadata": {},
   "outputs": [],
   "source": [
    "house_committee_data = house_committee_data.drop(\n",
    "    columns=['committee_id_code', 'bioguide_id', 'icpsr_comm_code', 'icpsr_id'])\n",
    "senate_committee_data = senate_committee_data.drop(\n",
    "    columns=['committee_id_code', 'bioguide_id', 'icpsr_comm_code', 'icpsr_id'])"
   ]
  },
  {
   "cell_type": "code",
   "execution_count": 60,
   "metadata": {},
   "outputs": [
    {
     "data": {
      "text/html": [
       "<div>\n",
       "<style scoped>\n",
       "    .dataframe tbody tr th:only-of-type {\n",
       "        vertical-align: middle;\n",
       "    }\n",
       "\n",
       "    .dataframe tbody tr th {\n",
       "        vertical-align: top;\n",
       "    }\n",
       "\n",
       "    .dataframe thead th {\n",
       "        text-align: right;\n",
       "    }\n",
       "</style>\n",
       "<table border=\"1\" class=\"dataframe\">\n",
       "  <thead>\n",
       "    <tr style=\"text-align: right;\">\n",
       "      <th></th>\n",
       "      <th>congress_number</th>\n",
       "      <th>icpsr_ID</th>\n",
       "      <th>party</th>\n",
       "      <th>chamber</th>\n",
       "      <th>THOMAS_codes</th>\n",
       "      <th>id</th>\n",
       "    </tr>\n",
       "  </thead>\n",
       "  <tbody>\n",
       "    <tr>\n",
       "      <th>0</th>\n",
       "      <td>93.0</td>\n",
       "      <td>7498.0</td>\n",
       "      <td>100.0</td>\n",
       "      <td>house</td>\n",
       "      <td>HSAG</td>\n",
       "      <td>NaN</td>\n",
       "    </tr>\n",
       "  </tbody>\n",
       "</table>\n",
       "</div>"
      ],
      "text/plain": [
       "   congress_number  icpsr_ID  party chamber THOMAS_codes   id\n",
       "0             93.0    7498.0  100.0   house         HSAG  NaN"
      ]
     },
     "execution_count": 60,
     "metadata": {},
     "output_type": "execute_result"
    }
   ],
   "source": [
    "house_committee_data.head(1)"
   ]
  },
  {
   "cell_type": "code",
   "execution_count": 61,
   "metadata": {},
   "outputs": [
    {
     "data": {
      "text/html": [
       "<div>\n",
       "<style scoped>\n",
       "    .dataframe tbody tr th:only-of-type {\n",
       "        vertical-align: middle;\n",
       "    }\n",
       "\n",
       "    .dataframe tbody tr th {\n",
       "        vertical-align: top;\n",
       "    }\n",
       "\n",
       "    .dataframe thead th {\n",
       "        text-align: right;\n",
       "    }\n",
       "</style>\n",
       "<table border=\"1\" class=\"dataframe\">\n",
       "  <thead>\n",
       "    <tr style=\"text-align: right;\">\n",
       "      <th></th>\n",
       "      <th>congress_number</th>\n",
       "      <th>icpsr_ID</th>\n",
       "      <th>party</th>\n",
       "      <th>chamber</th>\n",
       "      <th>THOMAS_codes</th>\n",
       "      <th>id</th>\n",
       "    </tr>\n",
       "  </thead>\n",
       "  <tbody>\n",
       "    <tr>\n",
       "      <th>0</th>\n",
       "      <td>93</td>\n",
       "      <td>6754.0</td>\n",
       "      <td>100</td>\n",
       "      <td>senate</td>\n",
       "      <td>SSCM</td>\n",
       "      <td>M001033</td>\n",
       "    </tr>\n",
       "  </tbody>\n",
       "</table>\n",
       "</div>"
      ],
      "text/plain": [
       "   congress_number  icpsr_ID  party chamber THOMAS_codes       id\n",
       "0               93    6754.0    100  senate         SSCM  M001033"
      ]
     },
     "execution_count": 61,
     "metadata": {},
     "output_type": "execute_result"
    }
   ],
   "source": [
    "senate_committee_data.head(1)"
   ]
  },
  {
   "cell_type": "code",
   "execution_count": 62,
   "metadata": {},
   "outputs": [
    {
     "data": {
      "text/html": [
       "<div>\n",
       "<style scoped>\n",
       "    .dataframe tbody tr th:only-of-type {\n",
       "        vertical-align: middle;\n",
       "    }\n",
       "\n",
       "    .dataframe tbody tr th {\n",
       "        vertical-align: top;\n",
       "    }\n",
       "\n",
       "    .dataframe thead th {\n",
       "        text-align: right;\n",
       "    }\n",
       "</style>\n",
       "<table border=\"1\" class=\"dataframe\">\n",
       "  <thead>\n",
       "    <tr style=\"text-align: right;\">\n",
       "      <th></th>\n",
       "      <th>congress_number</th>\n",
       "      <th>chamber</th>\n",
       "      <th>bioguide_id</th>\n",
       "      <th>committee_THOMAS_id</th>\n",
       "    </tr>\n",
       "  </thead>\n",
       "  <tbody>\n",
       "    <tr>\n",
       "      <th>0</th>\n",
       "      <td>116</td>\n",
       "      <td>house</td>\n",
       "      <td>D000619</td>\n",
       "      <td>HSHA</td>\n",
       "    </tr>\n",
       "  </tbody>\n",
       "</table>\n",
       "</div>"
      ],
      "text/plain": [
       "   congress_number chamber bioguide_id committee_THOMAS_id\n",
       "0              116   house     D000619                HSHA"
      ]
     },
     "execution_count": 62,
     "metadata": {},
     "output_type": "execute_result"
    }
   ],
   "source": [
    "house_116_comms.head(1)"
   ]
  },
  {
   "cell_type": "code",
   "execution_count": 63,
   "metadata": {
    "scrolled": false
   },
   "outputs": [
    {
     "data": {
      "text/html": [
       "<div>\n",
       "<style scoped>\n",
       "    .dataframe tbody tr th:only-of-type {\n",
       "        vertical-align: middle;\n",
       "    }\n",
       "\n",
       "    .dataframe tbody tr th {\n",
       "        vertical-align: top;\n",
       "    }\n",
       "\n",
       "    .dataframe thead th {\n",
       "        text-align: right;\n",
       "    }\n",
       "</style>\n",
       "<table border=\"1\" class=\"dataframe\">\n",
       "  <thead>\n",
       "    <tr style=\"text-align: right;\">\n",
       "      <th></th>\n",
       "      <th>congress_number</th>\n",
       "      <th>chamber</th>\n",
       "      <th>bioguide_id</th>\n",
       "      <th>committee_THOMAS_id</th>\n",
       "    </tr>\n",
       "  </thead>\n",
       "  <tbody>\n",
       "    <tr>\n",
       "      <th>0</th>\n",
       "      <td>116</td>\n",
       "      <td>senate</td>\n",
       "      <td>R000307</td>\n",
       "      <td>SSAF</td>\n",
       "    </tr>\n",
       "  </tbody>\n",
       "</table>\n",
       "</div>"
      ],
      "text/plain": [
       "   congress_number chamber bioguide_id committee_THOMAS_id\n",
       "0              116  senate     R000307                SSAF"
      ]
     },
     "execution_count": 63,
     "metadata": {},
     "output_type": "execute_result"
    }
   ],
   "source": [
    "senate_116_comms.head(1)"
   ]
  },
  {
   "cell_type": "code",
   "execution_count": 64,
   "metadata": {},
   "outputs": [],
   "source": [
    "pd.set_option('display.max_columns', 500)"
   ]
  },
  {
   "cell_type": "code",
   "execution_count": 65,
   "metadata": {},
   "outputs": [],
   "source": [
    "senate_116_members = pd.read_csv('data_store/members/senate_116_members.csv',\n",
    "                                 usecols =['id', 'icpsr_id', 'party'])"
   ]
  },
  {
   "cell_type": "code",
   "execution_count": 66,
   "metadata": {},
   "outputs": [],
   "source": [
    "house_116_members = pd.read_csv('data_store/members/house_116_members.csv',\n",
    "                                 usecols =['id', 'icpsr_id', 'party'])"
   ]
  },
  {
   "cell_type": "code",
   "execution_count": 67,
   "metadata": {
    "scrolled": false
   },
   "outputs": [
    {
     "data": {
      "text/html": [
       "<div>\n",
       "<style scoped>\n",
       "    .dataframe tbody tr th:only-of-type {\n",
       "        vertical-align: middle;\n",
       "    }\n",
       "\n",
       "    .dataframe tbody tr th {\n",
       "        vertical-align: top;\n",
       "    }\n",
       "\n",
       "    .dataframe thead th {\n",
       "        text-align: right;\n",
       "    }\n",
       "</style>\n",
       "<table border=\"1\" class=\"dataframe\">\n",
       "  <thead>\n",
       "    <tr style=\"text-align: right;\">\n",
       "      <th></th>\n",
       "      <th>icpsr_id</th>\n",
       "      <th>id</th>\n",
       "      <th>party</th>\n",
       "    </tr>\n",
       "  </thead>\n",
       "  <tbody>\n",
       "    <tr>\n",
       "      <th>0</th>\n",
       "      <td>40304.0</td>\n",
       "      <td>A000360</td>\n",
       "      <td>R</td>\n",
       "    </tr>\n",
       "  </tbody>\n",
       "</table>\n",
       "</div>"
      ],
      "text/plain": [
       "   icpsr_id       id party\n",
       "0   40304.0  A000360     R"
      ]
     },
     "execution_count": 67,
     "metadata": {},
     "output_type": "execute_result"
    }
   ],
   "source": [
    "senate_116_members.head(1)"
   ]
  },
  {
   "cell_type": "code",
   "execution_count": 68,
   "metadata": {},
   "outputs": [],
   "source": [
    "house_116_comms = pd.merge(house_116_comms, house_116_members, how='left',\n",
    "                     left_on='bioguide_id',right_on='id')\n",
    "senate_116_comms = pd.merge(senate_116_comms, senate_116_members, how='left',\n",
    "                     left_on='bioguide_id',right_on='id')"
   ]
  },
  {
   "cell_type": "code",
   "execution_count": 69,
   "metadata": {
    "scrolled": true
   },
   "outputs": [
    {
     "data": {
      "text/html": [
       "<div>\n",
       "<style scoped>\n",
       "    .dataframe tbody tr th:only-of-type {\n",
       "        vertical-align: middle;\n",
       "    }\n",
       "\n",
       "    .dataframe tbody tr th {\n",
       "        vertical-align: top;\n",
       "    }\n",
       "\n",
       "    .dataframe thead th {\n",
       "        text-align: right;\n",
       "    }\n",
       "</style>\n",
       "<table border=\"1\" class=\"dataframe\">\n",
       "  <thead>\n",
       "    <tr style=\"text-align: right;\">\n",
       "      <th></th>\n",
       "      <th>congress_number</th>\n",
       "      <th>chamber</th>\n",
       "      <th>bioguide_id</th>\n",
       "      <th>committee_THOMAS_id</th>\n",
       "      <th>icpsr_id</th>\n",
       "      <th>id</th>\n",
       "      <th>party</th>\n",
       "    </tr>\n",
       "  </thead>\n",
       "  <tbody>\n",
       "    <tr>\n",
       "      <th>0</th>\n",
       "      <td>116</td>\n",
       "      <td>house</td>\n",
       "      <td>D000619</td>\n",
       "      <td>HSHA</td>\n",
       "      <td>21328.0</td>\n",
       "      <td>D000619</td>\n",
       "      <td>R</td>\n",
       "    </tr>\n",
       "  </tbody>\n",
       "</table>\n",
       "</div>"
      ],
      "text/plain": [
       "   congress_number chamber bioguide_id committee_THOMAS_id  icpsr_id       id  \\\n",
       "0              116   house     D000619                HSHA   21328.0  D000619   \n",
       "\n",
       "  party  \n",
       "0     R  "
      ]
     },
     "execution_count": 69,
     "metadata": {},
     "output_type": "execute_result"
    }
   ],
   "source": [
    "house_116_comms.head(1)"
   ]
  },
  {
   "cell_type": "code",
   "execution_count": 70,
   "metadata": {},
   "outputs": [
    {
     "data": {
      "text/html": [
       "<div>\n",
       "<style scoped>\n",
       "    .dataframe tbody tr th:only-of-type {\n",
       "        vertical-align: middle;\n",
       "    }\n",
       "\n",
       "    .dataframe tbody tr th {\n",
       "        vertical-align: top;\n",
       "    }\n",
       "\n",
       "    .dataframe thead th {\n",
       "        text-align: right;\n",
       "    }\n",
       "</style>\n",
       "<table border=\"1\" class=\"dataframe\">\n",
       "  <thead>\n",
       "    <tr style=\"text-align: right;\">\n",
       "      <th></th>\n",
       "      <th>congress_number</th>\n",
       "      <th>chamber</th>\n",
       "      <th>bioguide_id</th>\n",
       "      <th>committee_THOMAS_id</th>\n",
       "      <th>icpsr_id</th>\n",
       "      <th>id</th>\n",
       "      <th>party</th>\n",
       "    </tr>\n",
       "  </thead>\n",
       "  <tbody>\n",
       "    <tr>\n",
       "      <th>0</th>\n",
       "      <td>116</td>\n",
       "      <td>senate</td>\n",
       "      <td>R000307</td>\n",
       "      <td>SSAF</td>\n",
       "      <td>14852.0</td>\n",
       "      <td>R000307</td>\n",
       "      <td>R</td>\n",
       "    </tr>\n",
       "  </tbody>\n",
       "</table>\n",
       "</div>"
      ],
      "text/plain": [
       "   congress_number chamber bioguide_id committee_THOMAS_id  icpsr_id       id  \\\n",
       "0              116  senate     R000307                SSAF   14852.0  R000307   \n",
       "\n",
       "  party  \n",
       "0     R  "
      ]
     },
     "execution_count": 70,
     "metadata": {},
     "output_type": "execute_result"
    }
   ],
   "source": [
    "senate_116_comms.head(1)"
   ]
  },
  {
   "cell_type": "code",
   "execution_count": 71,
   "metadata": {},
   "outputs": [
    {
     "data": {
      "text/html": [
       "<div>\n",
       "<style scoped>\n",
       "    .dataframe tbody tr th:only-of-type {\n",
       "        vertical-align: middle;\n",
       "    }\n",
       "\n",
       "    .dataframe tbody tr th {\n",
       "        vertical-align: top;\n",
       "    }\n",
       "\n",
       "    .dataframe thead th {\n",
       "        text-align: right;\n",
       "    }\n",
       "</style>\n",
       "<table border=\"1\" class=\"dataframe\">\n",
       "  <thead>\n",
       "    <tr style=\"text-align: right;\">\n",
       "      <th></th>\n",
       "      <th>congress_number</th>\n",
       "      <th>icpsr_ID</th>\n",
       "      <th>party</th>\n",
       "      <th>chamber</th>\n",
       "      <th>THOMAS_codes</th>\n",
       "      <th>id</th>\n",
       "    </tr>\n",
       "  </thead>\n",
       "  <tbody>\n",
       "    <tr>\n",
       "      <th>0</th>\n",
       "      <td>93.0</td>\n",
       "      <td>7498.0</td>\n",
       "      <td>100.0</td>\n",
       "      <td>house</td>\n",
       "      <td>HSAG</td>\n",
       "      <td>NaN</td>\n",
       "    </tr>\n",
       "  </tbody>\n",
       "</table>\n",
       "</div>"
      ],
      "text/plain": [
       "   congress_number  icpsr_ID  party chamber THOMAS_codes   id\n",
       "0             93.0    7498.0  100.0   house         HSAG  NaN"
      ]
     },
     "execution_count": 71,
     "metadata": {},
     "output_type": "execute_result"
    }
   ],
   "source": [
    "house_committee_data.head(1)"
   ]
  },
  {
   "cell_type": "code",
   "execution_count": 72,
   "metadata": {
    "scrolled": true
   },
   "outputs": [
    {
     "data": {
      "text/html": [
       "<div>\n",
       "<style scoped>\n",
       "    .dataframe tbody tr th:only-of-type {\n",
       "        vertical-align: middle;\n",
       "    }\n",
       "\n",
       "    .dataframe tbody tr th {\n",
       "        vertical-align: top;\n",
       "    }\n",
       "\n",
       "    .dataframe thead th {\n",
       "        text-align: right;\n",
       "    }\n",
       "</style>\n",
       "<table border=\"1\" class=\"dataframe\">\n",
       "  <thead>\n",
       "    <tr style=\"text-align: right;\">\n",
       "      <th></th>\n",
       "      <th>congress_number</th>\n",
       "      <th>chamber</th>\n",
       "      <th>bioguide_id</th>\n",
       "      <th>committee_THOMAS_id</th>\n",
       "      <th>icpsr_id</th>\n",
       "      <th>id</th>\n",
       "      <th>party</th>\n",
       "    </tr>\n",
       "  </thead>\n",
       "  <tbody>\n",
       "    <tr>\n",
       "      <th>0</th>\n",
       "      <td>116</td>\n",
       "      <td>senate</td>\n",
       "      <td>R000307</td>\n",
       "      <td>SSAF</td>\n",
       "      <td>14852.0</td>\n",
       "      <td>R000307</td>\n",
       "      <td>R</td>\n",
       "    </tr>\n",
       "  </tbody>\n",
       "</table>\n",
       "</div>"
      ],
      "text/plain": [
       "   congress_number chamber bioguide_id committee_THOMAS_id  icpsr_id       id  \\\n",
       "0              116  senate     R000307                SSAF   14852.0  R000307   \n",
       "\n",
       "  party  \n",
       "0     R  "
      ]
     },
     "execution_count": 72,
     "metadata": {},
     "output_type": "execute_result"
    }
   ],
   "source": [
    "senate_116_comms.head(1)"
   ]
  },
  {
   "cell_type": "code",
   "execution_count": 73,
   "metadata": {},
   "outputs": [],
   "source": [
    "house_116_comms = house_116_comms.drop(\n",
    "    columns=['bioguide_id'])\n",
    "senate_116_comms = senate_116_comms.drop(\n",
    "    columns=['bioguide_id'])"
   ]
  },
  {
   "cell_type": "code",
   "execution_count": 74,
   "metadata": {
    "scrolled": true
   },
   "outputs": [
    {
     "data": {
      "text/html": [
       "<div>\n",
       "<style scoped>\n",
       "    .dataframe tbody tr th:only-of-type {\n",
       "        vertical-align: middle;\n",
       "    }\n",
       "\n",
       "    .dataframe tbody tr th {\n",
       "        vertical-align: top;\n",
       "    }\n",
       "\n",
       "    .dataframe thead th {\n",
       "        text-align: right;\n",
       "    }\n",
       "</style>\n",
       "<table border=\"1\" class=\"dataframe\">\n",
       "  <thead>\n",
       "    <tr style=\"text-align: right;\">\n",
       "      <th></th>\n",
       "      <th>congress_number</th>\n",
       "      <th>icpsr_ID</th>\n",
       "      <th>party</th>\n",
       "      <th>chamber</th>\n",
       "      <th>THOMAS_codes</th>\n",
       "      <th>id</th>\n",
       "    </tr>\n",
       "  </thead>\n",
       "  <tbody>\n",
       "    <tr>\n",
       "      <th>0</th>\n",
       "      <td>93.0</td>\n",
       "      <td>7498.0</td>\n",
       "      <td>100.0</td>\n",
       "      <td>house</td>\n",
       "      <td>HSAG</td>\n",
       "      <td>NaN</td>\n",
       "    </tr>\n",
       "  </tbody>\n",
       "</table>\n",
       "</div>"
      ],
      "text/plain": [
       "   congress_number  icpsr_ID  party chamber THOMAS_codes   id\n",
       "0             93.0    7498.0  100.0   house         HSAG  NaN"
      ]
     },
     "execution_count": 74,
     "metadata": {},
     "output_type": "execute_result"
    }
   ],
   "source": [
    "house_committee_data.head(1)"
   ]
  },
  {
   "cell_type": "code",
   "execution_count": 75,
   "metadata": {
    "scrolled": true
   },
   "outputs": [
    {
     "data": {
      "text/html": [
       "<div>\n",
       "<style scoped>\n",
       "    .dataframe tbody tr th:only-of-type {\n",
       "        vertical-align: middle;\n",
       "    }\n",
       "\n",
       "    .dataframe tbody tr th {\n",
       "        vertical-align: top;\n",
       "    }\n",
       "\n",
       "    .dataframe thead th {\n",
       "        text-align: right;\n",
       "    }\n",
       "</style>\n",
       "<table border=\"1\" class=\"dataframe\">\n",
       "  <thead>\n",
       "    <tr style=\"text-align: right;\">\n",
       "      <th></th>\n",
       "      <th>congress_number</th>\n",
       "      <th>chamber</th>\n",
       "      <th>committee_THOMAS_id</th>\n",
       "      <th>icpsr_id</th>\n",
       "      <th>id</th>\n",
       "      <th>party</th>\n",
       "    </tr>\n",
       "  </thead>\n",
       "  <tbody>\n",
       "    <tr>\n",
       "      <th>0</th>\n",
       "      <td>116</td>\n",
       "      <td>house</td>\n",
       "      <td>HSHA</td>\n",
       "      <td>21328.0</td>\n",
       "      <td>D000619</td>\n",
       "      <td>R</td>\n",
       "    </tr>\n",
       "  </tbody>\n",
       "</table>\n",
       "</div>"
      ],
      "text/plain": [
       "   congress_number chamber committee_THOMAS_id  icpsr_id       id party\n",
       "0              116   house                HSHA   21328.0  D000619     R"
      ]
     },
     "execution_count": 75,
     "metadata": {},
     "output_type": "execute_result"
    }
   ],
   "source": [
    "house_116_comms.head(1)"
   ]
  },
  {
   "cell_type": "code",
   "execution_count": 78,
   "metadata": {},
   "outputs": [],
   "source": [
    "house_116_comms = house_116_comms[['congress_number', 'icpsr_id', 'party', 'chamber',\n",
    "                                  'committee_THOMAS_id', 'id']]"
   ]
  },
  {
   "cell_type": "code",
   "execution_count": 79,
   "metadata": {},
   "outputs": [],
   "source": [
    "senate_116_comms = senate_116_comms[['congress_number', 'icpsr_id', 'party', 'chamber',\n",
    "                                  'committee_THOMAS_id', 'id']]"
   ]
  },
  {
   "cell_type": "code",
   "execution_count": 81,
   "metadata": {
    "scrolled": true
   },
   "outputs": [
    {
     "data": {
      "text/plain": [
       "Index(['congress_number', 'icpsr_ID', 'party', 'chamber', 'THOMAS_codes',\n",
       "       'id'],\n",
       "      dtype='object')"
      ]
     },
     "execution_count": 81,
     "metadata": {},
     "output_type": "execute_result"
    }
   ],
   "source": [
    "house_committee_data.columns"
   ]
  },
  {
   "cell_type": "code",
   "execution_count": 82,
   "metadata": {},
   "outputs": [
    {
     "data": {
      "text/plain": [
       "Index(['congress_number', 'icpsr_ID', 'party', 'chamber', 'THOMAS_codes',\n",
       "       'id'],\n",
       "      dtype='object')"
      ]
     },
     "execution_count": 82,
     "metadata": {},
     "output_type": "execute_result"
    }
   ],
   "source": [
    "senate_committee_data.columns"
   ]
  },
  {
   "cell_type": "code",
   "execution_count": 83,
   "metadata": {},
   "outputs": [],
   "source": [
    "house_116_comms.columns = ['congress_number', 'icpsr_ID', 'party',\n",
    "                           'chamber', 'THOMAS_codes', 'id']\n",
    "senate_116_comms.columns = ['congress_number', 'icpsr_ID', 'party',\n",
    "                            'chamber', 'THOMAS_codes', 'id']"
   ]
  },
  {
   "cell_type": "code",
   "execution_count": 84,
   "metadata": {
    "scrolled": true
   },
   "outputs": [
    {
     "data": {
      "text/plain": [
       "array([ True,  True,  True,  True,  True,  True])"
      ]
     },
     "execution_count": 84,
     "metadata": {},
     "output_type": "execute_result"
    }
   ],
   "source": [
    "house_116_comms.columns == house_committee_data.columns"
   ]
  },
  {
   "cell_type": "code",
   "execution_count": 85,
   "metadata": {
    "scrolled": true
   },
   "outputs": [
    {
     "data": {
      "text/plain": [
       "array([ True,  True,  True,  True,  True,  True])"
      ]
     },
     "execution_count": 85,
     "metadata": {},
     "output_type": "execute_result"
    }
   ],
   "source": [
    "senate_116_comms.columns == senate_committee_data.columns"
   ]
  },
  {
   "cell_type": "code",
   "execution_count": 87,
   "metadata": {},
   "outputs": [
    {
     "name": "stdout",
     "output_type": "stream",
     "text": [
      "house_116_comms: 844 \n",
      " house_committee_data: 20156 \n",
      " senate_116_comms: 415 \n",
      " house_committee_data: 8469\n"
     ]
    }
   ],
   "source": [
    "print ('house_116_comms:', len(house_116_comms), '\\n',\n",
    "       'house_committee_data:', len(house_committee_data), '\\n',\n",
    "       'senate_116_comms:', len(senate_116_comms), '\\n',\n",
    "       'house_committee_data:', len(senate_committee_data))"
   ]
  },
  {
   "cell_type": "code",
   "execution_count": 88,
   "metadata": {},
   "outputs": [
    {
     "data": {
      "text/plain": [
       "21000"
      ]
     },
     "execution_count": 88,
     "metadata": {},
     "output_type": "execute_result"
    }
   ],
   "source": [
    "len(house_116_comms) + len(house_committee_data)"
   ]
  },
  {
   "cell_type": "code",
   "execution_count": 89,
   "metadata": {},
   "outputs": [
    {
     "data": {
      "text/plain": [
       "8884"
      ]
     },
     "execution_count": 89,
     "metadata": {},
     "output_type": "execute_result"
    }
   ],
   "source": [
    "len(senate_116_comms) + len(senate_committee_data)"
   ]
  },
  {
   "cell_type": "code",
   "execution_count": 90,
   "metadata": {},
   "outputs": [],
   "source": [
    "house_committee_data = house_committee_data.append(house_116_comms, sort=True)#.reset_index()\n",
    "senate_committee_data = senate_committee_data.append(senate_116_comms, sort=True)#.reset_index()"
   ]
  },
  {
   "cell_type": "code",
   "execution_count": 91,
   "metadata": {
    "scrolled": true
   },
   "outputs": [
    {
     "data": {
      "text/plain": [
       "21000"
      ]
     },
     "execution_count": 91,
     "metadata": {},
     "output_type": "execute_result"
    }
   ],
   "source": [
    "len(house_committee_data)"
   ]
  },
  {
   "cell_type": "code",
   "execution_count": 92,
   "metadata": {},
   "outputs": [
    {
     "data": {
      "text/plain": [
       "8884"
      ]
     },
     "execution_count": 92,
     "metadata": {},
     "output_type": "execute_result"
    }
   ],
   "source": [
    "len(senate_committee_data)"
   ]
  },
  {
   "cell_type": "code",
   "execution_count": 93,
   "metadata": {
    "scrolled": true
   },
   "outputs": [
    {
     "data": {
      "text/html": [
       "<div>\n",
       "<style scoped>\n",
       "    .dataframe tbody tr th:only-of-type {\n",
       "        vertical-align: middle;\n",
       "    }\n",
       "\n",
       "    .dataframe tbody tr th {\n",
       "        vertical-align: top;\n",
       "    }\n",
       "\n",
       "    .dataframe thead th {\n",
       "        text-align: right;\n",
       "    }\n",
       "</style>\n",
       "<table border=\"1\" class=\"dataframe\">\n",
       "  <thead>\n",
       "    <tr style=\"text-align: right;\">\n",
       "      <th></th>\n",
       "      <th>THOMAS_codes</th>\n",
       "      <th>chamber</th>\n",
       "      <th>congress_number</th>\n",
       "      <th>icpsr_ID</th>\n",
       "      <th>id</th>\n",
       "      <th>party</th>\n",
       "    </tr>\n",
       "  </thead>\n",
       "  <tbody>\n",
       "    <tr>\n",
       "      <th>0</th>\n",
       "      <td>SSCM</td>\n",
       "      <td>senate</td>\n",
       "      <td>93</td>\n",
       "      <td>6754.0</td>\n",
       "      <td>M001033</td>\n",
       "      <td>100</td>\n",
       "    </tr>\n",
       "    <tr>\n",
       "      <th>1</th>\n",
       "      <td>SSCM</td>\n",
       "      <td>senate</td>\n",
       "      <td>93</td>\n",
       "      <td>5913.0</td>\n",
       "      <td>M000053</td>\n",
       "      <td>100</td>\n",
       "    </tr>\n",
       "    <tr>\n",
       "      <th>2</th>\n",
       "      <td>SSCM</td>\n",
       "      <td>senate</td>\n",
       "      <td>93</td>\n",
       "      <td>9141.0</td>\n",
       "      <td>S001136</td>\n",
       "      <td>100</td>\n",
       "    </tr>\n",
       "    <tr>\n",
       "      <th>3</th>\n",
       "      <td>SSCM</td>\n",
       "      <td>senate</td>\n",
       "      <td>93</td>\n",
       "      <td>8883.0</td>\n",
       "      <td>S000852</td>\n",
       "      <td>100</td>\n",
       "    </tr>\n",
       "    <tr>\n",
       "      <th>4</th>\n",
       "      <td>SSCM</td>\n",
       "      <td>senate</td>\n",
       "      <td>93</td>\n",
       "      <td>1482.0</td>\n",
       "      <td>C000120</td>\n",
       "      <td>100</td>\n",
       "    </tr>\n",
       "    <tr>\n",
       "      <th>5</th>\n",
       "      <td>SSCM</td>\n",
       "      <td>senate</td>\n",
       "      <td>93</td>\n",
       "      <td>13000.0</td>\n",
       "      <td>A000017</td>\n",
       "      <td>100</td>\n",
       "    </tr>\n",
       "    <tr>\n",
       "      <th>6</th>\n",
       "      <td>SSCM</td>\n",
       "      <td>senate</td>\n",
       "      <td>93</td>\n",
       "      <td>14104.0</td>\n",
       "      <td>H000317</td>\n",
       "      <td>100</td>\n",
       "    </tr>\n",
       "    <tr>\n",
       "      <th>7</th>\n",
       "      <td>SSCM</td>\n",
       "      <td>senate</td>\n",
       "      <td>93</td>\n",
       "      <td>3658.0</td>\n",
       "      <td>G000267</td>\n",
       "      <td>200</td>\n",
       "    </tr>\n",
       "    <tr>\n",
       "      <th>8</th>\n",
       "      <td>SSCM</td>\n",
       "      <td>senate</td>\n",
       "      <td>93</td>\n",
       "      <td>2267.0</td>\n",
       "      <td>C001006</td>\n",
       "      <td>200</td>\n",
       "    </tr>\n",
       "    <tr>\n",
       "      <th>9</th>\n",
       "      <td>SSCM</td>\n",
       "      <td>senate</td>\n",
       "      <td>93</td>\n",
       "      <td>12032.0</td>\n",
       "      <td>W000253</td>\n",
       "      <td>200</td>\n",
       "    </tr>\n",
       "    <tr>\n",
       "      <th>10</th>\n",
       "      <td>SSCM</td>\n",
       "      <td>senate</td>\n",
       "      <td>93</td>\n",
       "      <td>14100.0</td>\n",
       "      <td>B000200</td>\n",
       "      <td>200</td>\n",
       "    </tr>\n",
       "    <tr>\n",
       "      <th>11</th>\n",
       "      <td>SSCM</td>\n",
       "      <td>senate</td>\n",
       "      <td>93</td>\n",
       "      <td>14105.0</td>\n",
       "      <td>H000463</td>\n",
       "      <td>200</td>\n",
       "    </tr>\n",
       "    <tr>\n",
       "      <th>12</th>\n",
       "      <td>SSCM</td>\n",
       "      <td>senate</td>\n",
       "      <td>93</td>\n",
       "      <td>14103.0</td>\n",
       "      <td>D000407</td>\n",
       "      <td>200</td>\n",
       "    </tr>\n",
       "    <tr>\n",
       "      <th>13</th>\n",
       "      <td>SSCM</td>\n",
       "      <td>senate</td>\n",
       "      <td>93</td>\n",
       "      <td>14073.0</td>\n",
       "      <td>M000678</td>\n",
       "      <td>100</td>\n",
       "    </tr>\n",
       "    <tr>\n",
       "      <th>14</th>\n",
       "      <td>SSAF</td>\n",
       "      <td>senate</td>\n",
       "      <td>93</td>\n",
       "      <td>9174.0</td>\n",
       "      <td>T000035</td>\n",
       "      <td>100</td>\n",
       "    </tr>\n",
       "    <tr>\n",
       "      <th>15</th>\n",
       "      <td>SSAF</td>\n",
       "      <td>senate</td>\n",
       "      <td>93</td>\n",
       "      <td>2822.0</td>\n",
       "      <td>E000018</td>\n",
       "      <td>100</td>\n",
       "    </tr>\n",
       "    <tr>\n",
       "      <th>16</th>\n",
       "      <td>SSAF</td>\n",
       "      <td>senate</td>\n",
       "      <td>93</td>\n",
       "      <td>6256.0</td>\n",
       "      <td>M000452</td>\n",
       "      <td>100</td>\n",
       "    </tr>\n",
       "    <tr>\n",
       "      <th>17</th>\n",
       "      <td>SSAF</td>\n",
       "      <td>senate</td>\n",
       "      <td>93</td>\n",
       "      <td>12100.0</td>\n",
       "      <td>A000127</td>\n",
       "      <td>100</td>\n",
       "    </tr>\n",
       "    <tr>\n",
       "      <th>18</th>\n",
       "      <td>SSAF</td>\n",
       "      <td>senate</td>\n",
       "      <td>93</td>\n",
       "      <td>4728.0</td>\n",
       "      <td>H000953</td>\n",
       "      <td>137</td>\n",
       "    </tr>\n",
       "    <tr>\n",
       "      <th>19</th>\n",
       "      <td>SSAF</td>\n",
       "      <td>senate</td>\n",
       "      <td>93</td>\n",
       "      <td>10736.0</td>\n",
       "      <td>H000346</td>\n",
       "      <td>100</td>\n",
       "    </tr>\n",
       "    <tr>\n",
       "      <th>20</th>\n",
       "      <td>SSAF</td>\n",
       "      <td>senate</td>\n",
       "      <td>93</td>\n",
       "      <td>14106.0</td>\n",
       "      <td>H000905</td>\n",
       "      <td>100</td>\n",
       "    </tr>\n",
       "    <tr>\n",
       "      <th>21</th>\n",
       "      <td>SSAF</td>\n",
       "      <td>senate</td>\n",
       "      <td>93</td>\n",
       "      <td>14102.0</td>\n",
       "      <td>C000448</td>\n",
       "      <td>100</td>\n",
       "    </tr>\n",
       "    <tr>\n",
       "      <th>22</th>\n",
       "      <td>SSAF</td>\n",
       "      <td>senate</td>\n",
       "      <td>93</td>\n",
       "      <td>2267.0</td>\n",
       "      <td>C001006</td>\n",
       "      <td>200</td>\n",
       "    </tr>\n",
       "    <tr>\n",
       "      <th>23</th>\n",
       "      <td>SSAF</td>\n",
       "      <td>senate</td>\n",
       "      <td>93</td>\n",
       "      <td>52.0</td>\n",
       "      <td>A000062</td>\n",
       "      <td>200</td>\n",
       "    </tr>\n",
       "    <tr>\n",
       "      <th>24</th>\n",
       "      <td>SSAF</td>\n",
       "      <td>senate</td>\n",
       "      <td>93</td>\n",
       "      <td>10450.0</td>\n",
       "      <td>Y000047</td>\n",
       "      <td>200</td>\n",
       "    </tr>\n",
       "    <tr>\n",
       "      <th>25</th>\n",
       "      <td>SSAF</td>\n",
       "      <td>senate</td>\n",
       "      <td>93</td>\n",
       "      <td>10513.0</td>\n",
       "      <td>D000401</td>\n",
       "      <td>200</td>\n",
       "    </tr>\n",
       "    <tr>\n",
       "      <th>26</th>\n",
       "      <td>SSAF</td>\n",
       "      <td>senate</td>\n",
       "      <td>93</td>\n",
       "      <td>12101.0</td>\n",
       "      <td>B000351</td>\n",
       "      <td>200</td>\n",
       "    </tr>\n",
       "    <tr>\n",
       "      <th>27</th>\n",
       "      <td>SSAF</td>\n",
       "      <td>senate</td>\n",
       "      <td>93</td>\n",
       "      <td>14105.0</td>\n",
       "      <td>H000463</td>\n",
       "      <td>200</td>\n",
       "    </tr>\n",
       "    <tr>\n",
       "      <th>28</th>\n",
       "      <td>SSAP</td>\n",
       "      <td>senate</td>\n",
       "      <td>93</td>\n",
       "      <td>6151.0</td>\n",
       "      <td>M000332</td>\n",
       "      <td>100</td>\n",
       "    </tr>\n",
       "    <tr>\n",
       "      <th>29</th>\n",
       "      <td>SSAP</td>\n",
       "      <td>senate</td>\n",
       "      <td>93</td>\n",
       "      <td>5913.0</td>\n",
       "      <td>M000053</td>\n",
       "      <td>100</td>\n",
       "    </tr>\n",
       "    <tr>\n",
       "      <th>...</th>\n",
       "      <td>...</td>\n",
       "      <td>...</td>\n",
       "      <td>...</td>\n",
       "      <td>...</td>\n",
       "      <td>...</td>\n",
       "      <td>...</td>\n",
       "    </tr>\n",
       "    <tr>\n",
       "      <th>8854</th>\n",
       "      <td>SLIN</td>\n",
       "      <td>senate</td>\n",
       "      <td>116</td>\n",
       "      <td>41701.0</td>\n",
       "      <td>H001075</td>\n",
       "      <td>D</td>\n",
       "    </tr>\n",
       "    <tr>\n",
       "      <th>8855</th>\n",
       "      <td>SLIN</td>\n",
       "      <td>senate</td>\n",
       "      <td>116</td>\n",
       "      <td>40305.0</td>\n",
       "      <td>C001056</td>\n",
       "      <td>R</td>\n",
       "    </tr>\n",
       "    <tr>\n",
       "      <th>8856</th>\n",
       "      <td>SLIN</td>\n",
       "      <td>senate</td>\n",
       "      <td>116</td>\n",
       "      <td>40910.0</td>\n",
       "      <td>B001267</td>\n",
       "      <td>D</td>\n",
       "    </tr>\n",
       "    <tr>\n",
       "      <th>8857</th>\n",
       "      <td>SLIN</td>\n",
       "      <td>senate</td>\n",
       "      <td>116</td>\n",
       "      <td>41503.0</td>\n",
       "      <td>S001197</td>\n",
       "      <td>R</td>\n",
       "    </tr>\n",
       "    <tr>\n",
       "      <th>8858</th>\n",
       "      <td>SLIN</td>\n",
       "      <td>senate</td>\n",
       "      <td>116</td>\n",
       "      <td>14858.0</td>\n",
       "      <td>S000148</td>\n",
       "      <td>D</td>\n",
       "    </tr>\n",
       "    <tr>\n",
       "      <th>8859</th>\n",
       "      <td>SLIN</td>\n",
       "      <td>senate</td>\n",
       "      <td>116</td>\n",
       "      <td>14921.0</td>\n",
       "      <td>M000355</td>\n",
       "      <td>R</td>\n",
       "    </tr>\n",
       "    <tr>\n",
       "      <th>8860</th>\n",
       "      <td>SLIN</td>\n",
       "      <td>senate</td>\n",
       "      <td>116</td>\n",
       "      <td>29142.0</td>\n",
       "      <td>R000122</td>\n",
       "      <td>D</td>\n",
       "    </tr>\n",
       "    <tr>\n",
       "      <th>8861</th>\n",
       "      <td>SLIN</td>\n",
       "      <td>senate</td>\n",
       "      <td>116</td>\n",
       "      <td>15424.0</td>\n",
       "      <td>I000024</td>\n",
       "      <td>R</td>\n",
       "    </tr>\n",
       "    <tr>\n",
       "      <th>8862</th>\n",
       "      <td>SPAG</td>\n",
       "      <td>senate</td>\n",
       "      <td>116</td>\n",
       "      <td>49703.0</td>\n",
       "      <td>C001035</td>\n",
       "      <td>R</td>\n",
       "    </tr>\n",
       "    <tr>\n",
       "      <th>8863</th>\n",
       "      <td>SPAG</td>\n",
       "      <td>senate</td>\n",
       "      <td>116</td>\n",
       "      <td>40703.0</td>\n",
       "      <td>C001070</td>\n",
       "      <td>D</td>\n",
       "    </tr>\n",
       "    <tr>\n",
       "      <th>8864</th>\n",
       "      <td>SPAG</td>\n",
       "      <td>senate</td>\n",
       "      <td>116</td>\n",
       "      <td>21173.0</td>\n",
       "      <td>S001184</td>\n",
       "      <td>R</td>\n",
       "    </tr>\n",
       "    <tr>\n",
       "      <th>8865</th>\n",
       "      <td>SPAG</td>\n",
       "      <td>senate</td>\n",
       "      <td>116</td>\n",
       "      <td>20735.0</td>\n",
       "      <td>G000555</td>\n",
       "      <td>D</td>\n",
       "    </tr>\n",
       "    <tr>\n",
       "      <th>8866</th>\n",
       "      <td>SPAG</td>\n",
       "      <td>senate</td>\n",
       "      <td>116</td>\n",
       "      <td>29548.0</td>\n",
       "      <td>B001135</td>\n",
       "      <td>R</td>\n",
       "    </tr>\n",
       "    <tr>\n",
       "      <th>8867</th>\n",
       "      <td>SPAG</td>\n",
       "      <td>senate</td>\n",
       "      <td>116</td>\n",
       "      <td>41101.0</td>\n",
       "      <td>B001277</td>\n",
       "      <td>D</td>\n",
       "    </tr>\n",
       "    <tr>\n",
       "      <th>8868</th>\n",
       "      <td>SPAG</td>\n",
       "      <td>senate</td>\n",
       "      <td>116</td>\n",
       "      <td>21501.0</td>\n",
       "      <td>M001197</td>\n",
       "      <td>R</td>\n",
       "    </tr>\n",
       "    <tr>\n",
       "      <th>8869</th>\n",
       "      <td>SPAG</td>\n",
       "      <td>senate</td>\n",
       "      <td>116</td>\n",
       "      <td>41301.0</td>\n",
       "      <td>W000817</td>\n",
       "      <td>D</td>\n",
       "    </tr>\n",
       "    <tr>\n",
       "      <th>8870</th>\n",
       "      <td>SPAG</td>\n",
       "      <td>senate</td>\n",
       "      <td>116</td>\n",
       "      <td>41102.0</td>\n",
       "      <td>R000595</td>\n",
       "      <td>R</td>\n",
       "    </tr>\n",
       "    <tr>\n",
       "      <th>8871</th>\n",
       "      <td>SPAG</td>\n",
       "      <td>senate</td>\n",
       "      <td>116</td>\n",
       "      <td>41705.0</td>\n",
       "      <td>J000300</td>\n",
       "      <td>D</td>\n",
       "    </tr>\n",
       "    <tr>\n",
       "      <th>8872</th>\n",
       "      <td>SPAG</td>\n",
       "      <td>senate</td>\n",
       "      <td>116</td>\n",
       "      <td>NaN</td>\n",
       "      <td>H001089</td>\n",
       "      <td>R</td>\n",
       "    </tr>\n",
       "    <tr>\n",
       "      <th>8873</th>\n",
       "      <td>SPAG</td>\n",
       "      <td>senate</td>\n",
       "      <td>116</td>\n",
       "      <td>21300.0</td>\n",
       "      <td>S001191</td>\n",
       "      <td>D</td>\n",
       "    </tr>\n",
       "    <tr>\n",
       "      <th>8874</th>\n",
       "      <td>SPAG</td>\n",
       "      <td>senate</td>\n",
       "      <td>116</td>\n",
       "      <td>NaN</td>\n",
       "      <td>B001310</td>\n",
       "      <td>R</td>\n",
       "    </tr>\n",
       "    <tr>\n",
       "      <th>8875</th>\n",
       "      <td>SPAG</td>\n",
       "      <td>senate</td>\n",
       "      <td>116</td>\n",
       "      <td>21743.0</td>\n",
       "      <td>R000608</td>\n",
       "      <td>D</td>\n",
       "    </tr>\n",
       "    <tr>\n",
       "      <th>8876</th>\n",
       "      <td>SPAG</td>\n",
       "      <td>senate</td>\n",
       "      <td>116</td>\n",
       "      <td>NaN</td>\n",
       "      <td>S001217</td>\n",
       "      <td>R</td>\n",
       "    </tr>\n",
       "    <tr>\n",
       "      <th>8877</th>\n",
       "      <td>SCNC</td>\n",
       "      <td>senate</td>\n",
       "      <td>116</td>\n",
       "      <td>40305.0</td>\n",
       "      <td>C001056</td>\n",
       "      <td>R</td>\n",
       "    </tr>\n",
       "    <tr>\n",
       "      <th>8878</th>\n",
       "      <td>SCNC</td>\n",
       "      <td>senate</td>\n",
       "      <td>116</td>\n",
       "      <td>49300.0</td>\n",
       "      <td>F000062</td>\n",
       "      <td>D</td>\n",
       "    </tr>\n",
       "    <tr>\n",
       "      <th>8879</th>\n",
       "      <td>SCNC</td>\n",
       "      <td>senate</td>\n",
       "      <td>116</td>\n",
       "      <td>14226.0</td>\n",
       "      <td>G000386</td>\n",
       "      <td>R</td>\n",
       "    </tr>\n",
       "    <tr>\n",
       "      <th>8880</th>\n",
       "      <td>SCNC</td>\n",
       "      <td>senate</td>\n",
       "      <td>116</td>\n",
       "      <td>40704.0</td>\n",
       "      <td>W000802</td>\n",
       "      <td>D</td>\n",
       "    </tr>\n",
       "    <tr>\n",
       "      <th>8881</th>\n",
       "      <td>SCNC</td>\n",
       "      <td>senate</td>\n",
       "      <td>116</td>\n",
       "      <td>40902.0</td>\n",
       "      <td>R000584</td>\n",
       "      <td>R</td>\n",
       "    </tr>\n",
       "    <tr>\n",
       "      <th>8882</th>\n",
       "      <td>SCNC</td>\n",
       "      <td>senate</td>\n",
       "      <td>116</td>\n",
       "      <td>21743.0</td>\n",
       "      <td>R000608</td>\n",
       "      <td>D</td>\n",
       "    </tr>\n",
       "    <tr>\n",
       "      <th>8883</th>\n",
       "      <td>SCNC</td>\n",
       "      <td>senate</td>\n",
       "      <td>116</td>\n",
       "      <td>41501.0</td>\n",
       "      <td>P000612</td>\n",
       "      <td>R</td>\n",
       "    </tr>\n",
       "  </tbody>\n",
       "</table>\n",
       "<p>8884 rows × 6 columns</p>\n",
       "</div>"
      ],
      "text/plain": [
       "     THOMAS_codes chamber  congress_number  icpsr_ID       id party\n",
       "0            SSCM  senate               93    6754.0  M001033   100\n",
       "1            SSCM  senate               93    5913.0  M000053   100\n",
       "2            SSCM  senate               93    9141.0  S001136   100\n",
       "3            SSCM  senate               93    8883.0  S000852   100\n",
       "4            SSCM  senate               93    1482.0  C000120   100\n",
       "5            SSCM  senate               93   13000.0  A000017   100\n",
       "6            SSCM  senate               93   14104.0  H000317   100\n",
       "7            SSCM  senate               93    3658.0  G000267   200\n",
       "8            SSCM  senate               93    2267.0  C001006   200\n",
       "9            SSCM  senate               93   12032.0  W000253   200\n",
       "10           SSCM  senate               93   14100.0  B000200   200\n",
       "11           SSCM  senate               93   14105.0  H000463   200\n",
       "12           SSCM  senate               93   14103.0  D000407   200\n",
       "13           SSCM  senate               93   14073.0  M000678   100\n",
       "14           SSAF  senate               93    9174.0  T000035   100\n",
       "15           SSAF  senate               93    2822.0  E000018   100\n",
       "16           SSAF  senate               93    6256.0  M000452   100\n",
       "17           SSAF  senate               93   12100.0  A000127   100\n",
       "18           SSAF  senate               93    4728.0  H000953   137\n",
       "19           SSAF  senate               93   10736.0  H000346   100\n",
       "20           SSAF  senate               93   14106.0  H000905   100\n",
       "21           SSAF  senate               93   14102.0  C000448   100\n",
       "22           SSAF  senate               93    2267.0  C001006   200\n",
       "23           SSAF  senate               93      52.0  A000062   200\n",
       "24           SSAF  senate               93   10450.0  Y000047   200\n",
       "25           SSAF  senate               93   10513.0  D000401   200\n",
       "26           SSAF  senate               93   12101.0  B000351   200\n",
       "27           SSAF  senate               93   14105.0  H000463   200\n",
       "28           SSAP  senate               93    6151.0  M000332   100\n",
       "29           SSAP  senate               93    5913.0  M000053   100\n",
       "...           ...     ...              ...       ...      ...   ...\n",
       "8854         SLIN  senate              116   41701.0  H001075     D\n",
       "8855         SLIN  senate              116   40305.0  C001056     R\n",
       "8856         SLIN  senate              116   40910.0  B001267     D\n",
       "8857         SLIN  senate              116   41503.0  S001197     R\n",
       "8858         SLIN  senate              116   14858.0  S000148     D\n",
       "8859         SLIN  senate              116   14921.0  M000355     R\n",
       "8860         SLIN  senate              116   29142.0  R000122     D\n",
       "8861         SLIN  senate              116   15424.0  I000024     R\n",
       "8862         SPAG  senate              116   49703.0  C001035     R\n",
       "8863         SPAG  senate              116   40703.0  C001070     D\n",
       "8864         SPAG  senate              116   21173.0  S001184     R\n",
       "8865         SPAG  senate              116   20735.0  G000555     D\n",
       "8866         SPAG  senate              116   29548.0  B001135     R\n",
       "8867         SPAG  senate              116   41101.0  B001277     D\n",
       "8868         SPAG  senate              116   21501.0  M001197     R\n",
       "8869         SPAG  senate              116   41301.0  W000817     D\n",
       "8870         SPAG  senate              116   41102.0  R000595     R\n",
       "8871         SPAG  senate              116   41705.0  J000300     D\n",
       "8872         SPAG  senate              116       NaN  H001089     R\n",
       "8873         SPAG  senate              116   21300.0  S001191     D\n",
       "8874         SPAG  senate              116       NaN  B001310     R\n",
       "8875         SPAG  senate              116   21743.0  R000608     D\n",
       "8876         SPAG  senate              116       NaN  S001217     R\n",
       "8877         SCNC  senate              116   40305.0  C001056     R\n",
       "8878         SCNC  senate              116   49300.0  F000062     D\n",
       "8879         SCNC  senate              116   14226.0  G000386     R\n",
       "8880         SCNC  senate              116   40704.0  W000802     D\n",
       "8881         SCNC  senate              116   40902.0  R000584     R\n",
       "8882         SCNC  senate              116   21743.0  R000608     D\n",
       "8883         SCNC  senate              116   41501.0  P000612     R\n",
       "\n",
       "[8884 rows x 6 columns]"
      ]
     },
     "execution_count": 93,
     "metadata": {},
     "output_type": "execute_result"
    }
   ],
   "source": [
    "house_committee_data.reset_index(drop=True)\n",
    "senate_committee_data.reset_index(drop=True)"
   ]
  },
  {
   "cell_type": "code",
   "execution_count": 94,
   "metadata": {},
   "outputs": [
    {
     "data": {
      "text/plain": [
       "Index(['THOMAS_codes', 'chamber', 'congress_number', 'icpsr_ID', 'id',\n",
       "       'party'],\n",
       "      dtype='object')"
      ]
     },
     "execution_count": 94,
     "metadata": {},
     "output_type": "execute_result"
    }
   ],
   "source": [
    "house_committee_data.columns"
   ]
  },
  {
   "cell_type": "code",
   "execution_count": 95,
   "metadata": {},
   "outputs": [
    {
     "data": {
      "text/plain": [
       "Index(['THOMAS_codes', 'chamber', 'congress_number', 'icpsr_ID', 'id',\n",
       "       'party'],\n",
       "      dtype='object')"
      ]
     },
     "execution_count": 95,
     "metadata": {},
     "output_type": "execute_result"
    }
   ],
   "source": [
    "senate_committee_data.columns"
   ]
  },
  {
   "cell_type": "code",
   "execution_count": 114,
   "metadata": {
    "scrolled": false
   },
   "outputs": [
    {
     "data": {
      "text/plain": [
       "Index(['congress_number', 'chamber', 'bioguide_id', 'committee_THOMAS_id'], dtype='object')"
      ]
     },
     "execution_count": 114,
     "metadata": {},
     "output_type": "execute_result"
    }
   ],
   "source": [
    "joint_116_comms.columns"
   ]
  },
  {
   "cell_type": "code",
   "execution_count": 101,
   "metadata": {},
   "outputs": [],
   "source": [
    "all_ids = house_116_members.append(senate_116_members)"
   ]
  },
  {
   "cell_type": "code",
   "execution_count": 115,
   "metadata": {},
   "outputs": [],
   "source": [
    "joint_116_comms = pd.merge(joint_116_comms, all_ids, how='left',\n",
    "                     left_on='bioguide_id',right_on='id')"
   ]
  },
  {
   "cell_type": "code",
   "execution_count": 116,
   "metadata": {
    "scrolled": true
   },
   "outputs": [
    {
     "data": {
      "text/html": [
       "<div>\n",
       "<style scoped>\n",
       "    .dataframe tbody tr th:only-of-type {\n",
       "        vertical-align: middle;\n",
       "    }\n",
       "\n",
       "    .dataframe tbody tr th {\n",
       "        vertical-align: top;\n",
       "    }\n",
       "\n",
       "    .dataframe thead th {\n",
       "        text-align: right;\n",
       "    }\n",
       "</style>\n",
       "<table border=\"1\" class=\"dataframe\">\n",
       "  <thead>\n",
       "    <tr style=\"text-align: right;\">\n",
       "      <th></th>\n",
       "      <th>congress_number</th>\n",
       "      <th>chamber</th>\n",
       "      <th>bioguide_id</th>\n",
       "      <th>committee_THOMAS_id</th>\n",
       "      <th>icpsr_id</th>\n",
       "      <th>id</th>\n",
       "      <th>party</th>\n",
       "    </tr>\n",
       "  </thead>\n",
       "  <tbody>\n",
       "    <tr>\n",
       "      <th>0</th>\n",
       "      <td>116</td>\n",
       "      <td>joint</td>\n",
       "      <td>L000577</td>\n",
       "      <td>JSEC</td>\n",
       "      <td>41110.0</td>\n",
       "      <td>L000577</td>\n",
       "      <td>R</td>\n",
       "    </tr>\n",
       "  </tbody>\n",
       "</table>\n",
       "</div>"
      ],
      "text/plain": [
       "   congress_number chamber bioguide_id committee_THOMAS_id  icpsr_id       id  \\\n",
       "0              116   joint     L000577                JSEC   41110.0  L000577   \n",
       "\n",
       "  party  \n",
       "0     R  "
      ]
     },
     "execution_count": 116,
     "metadata": {},
     "output_type": "execute_result"
    }
   ],
   "source": [
    "joint_116_comms.head(1)"
   ]
  },
  {
   "cell_type": "code",
   "execution_count": null,
   "metadata": {},
   "outputs": [],
   "source": []
  },
  {
   "cell_type": "code",
   "execution_count": 117,
   "metadata": {},
   "outputs": [],
   "source": [
    "joint_116_comms = joint_116_comms.drop(\n",
    "    columns=['bioguide_id'])\n"
   ]
  },
  {
   "cell_type": "code",
   "execution_count": 118,
   "metadata": {},
   "outputs": [],
   "source": [
    "joint_116_comms = joint_116_comms[['committee_THOMAS_id', 'chamber',\n",
    "                                  'congress_number', 'icpsr_id', 'id', 'party']]"
   ]
  },
  {
   "cell_type": "code",
   "execution_count": 119,
   "metadata": {},
   "outputs": [
    {
     "data": {
      "text/plain": [
       "Index(['committee_THOMAS_id', 'chamber', 'congress_number', 'icpsr_id', 'id',\n",
       "       'party'],\n",
       "      dtype='object')"
      ]
     },
     "execution_count": 119,
     "metadata": {},
     "output_type": "execute_result"
    }
   ],
   "source": [
    "joint_116_comms.columns"
   ]
  },
  {
   "cell_type": "code",
   "execution_count": 120,
   "metadata": {},
   "outputs": [],
   "source": [
    "joint_116_comms.columns = ['THOMAS_codes', 'chamber', 'congress_number',\n",
    "                           'icpsr_ID', 'id', 'party']"
   ]
  },
  {
   "cell_type": "code",
   "execution_count": 122,
   "metadata": {},
   "outputs": [
    {
     "data": {
      "text/plain": [
       "array([ True,  True,  True,  True,  True,  True])"
      ]
     },
     "execution_count": 122,
     "metadata": {},
     "output_type": "execute_result"
    }
   ],
   "source": [
    "joint_116_comms.columns == senate_committee_data.columns"
   ]
  },
  {
   "cell_type": "code",
   "execution_count": 123,
   "metadata": {},
   "outputs": [
    {
     "data": {
      "text/html": [
       "<div>\n",
       "<style scoped>\n",
       "    .dataframe tbody tr th:only-of-type {\n",
       "        vertical-align: middle;\n",
       "    }\n",
       "\n",
       "    .dataframe tbody tr th {\n",
       "        vertical-align: top;\n",
       "    }\n",
       "\n",
       "    .dataframe thead th {\n",
       "        text-align: right;\n",
       "    }\n",
       "</style>\n",
       "<table border=\"1\" class=\"dataframe\">\n",
       "  <thead>\n",
       "    <tr style=\"text-align: right;\">\n",
       "      <th></th>\n",
       "      <th>THOMAS_codes</th>\n",
       "      <th>chamber</th>\n",
       "      <th>congress_number</th>\n",
       "      <th>icpsr_ID</th>\n",
       "      <th>id</th>\n",
       "      <th>party</th>\n",
       "    </tr>\n",
       "  </thead>\n",
       "  <tbody>\n",
       "    <tr>\n",
       "      <th>0</th>\n",
       "      <td>JSEC</td>\n",
       "      <td>joint</td>\n",
       "      <td>116</td>\n",
       "      <td>41110.0</td>\n",
       "      <td>L000577</td>\n",
       "      <td>R</td>\n",
       "    </tr>\n",
       "  </tbody>\n",
       "</table>\n",
       "</div>"
      ],
      "text/plain": [
       "  THOMAS_codes chamber  congress_number  icpsr_ID       id party\n",
       "0         JSEC   joint              116   41110.0  L000577     R"
      ]
     },
     "execution_count": 123,
     "metadata": {},
     "output_type": "execute_result"
    }
   ],
   "source": [
    "joint_116_comms.head(1)"
   ]
  },
  {
   "cell_type": "code",
   "execution_count": 124,
   "metadata": {},
   "outputs": [],
   "source": [
    "all_committee_membership_data = house_committee_data.append(\n",
    "    senate_committee_data, sort=True)"
   ]
  },
  {
   "cell_type": "code",
   "execution_count": 125,
   "metadata": {},
   "outputs": [],
   "source": [
    "all_committee_membership_data = all_committee_membership_data.append(\n",
    "    joint_116_comms, sort=True)"
   ]
  },
  {
   "cell_type": "code",
   "execution_count": 126,
   "metadata": {},
   "outputs": [],
   "source": [
    "all_committee_membership_data = all_committee_membership_data.reset_index(drop=True)"
   ]
  },
  {
   "cell_type": "code",
   "execution_count": 127,
   "metadata": {
    "scrolled": true
   },
   "outputs": [
    {
     "data": {
      "text/html": [
       "<div>\n",
       "<style scoped>\n",
       "    .dataframe tbody tr th:only-of-type {\n",
       "        vertical-align: middle;\n",
       "    }\n",
       "\n",
       "    .dataframe tbody tr th {\n",
       "        vertical-align: top;\n",
       "    }\n",
       "\n",
       "    .dataframe thead th {\n",
       "        text-align: right;\n",
       "    }\n",
       "</style>\n",
       "<table border=\"1\" class=\"dataframe\">\n",
       "  <thead>\n",
       "    <tr style=\"text-align: right;\">\n",
       "      <th></th>\n",
       "      <th>THOMAS_codes</th>\n",
       "      <th>chamber</th>\n",
       "      <th>congress_number</th>\n",
       "      <th>icpsr_ID</th>\n",
       "      <th>id</th>\n",
       "      <th>party</th>\n",
       "    </tr>\n",
       "  </thead>\n",
       "  <tbody>\n",
       "    <tr>\n",
       "      <th>0</th>\n",
       "      <td>HSAG</td>\n",
       "      <td>house</td>\n",
       "      <td>93.0</td>\n",
       "      <td>7498.0</td>\n",
       "      <td>NaN</td>\n",
       "      <td>100</td>\n",
       "    </tr>\n",
       "  </tbody>\n",
       "</table>\n",
       "</div>"
      ],
      "text/plain": [
       "  THOMAS_codes chamber  congress_number  icpsr_ID   id party\n",
       "0         HSAG   house             93.0    7498.0  NaN   100"
      ]
     },
     "execution_count": 127,
     "metadata": {},
     "output_type": "execute_result"
    }
   ],
   "source": [
    "all_committee_membership_data.head(1)"
   ]
  },
  {
   "cell_type": "code",
   "execution_count": 128,
   "metadata": {},
   "outputs": [],
   "source": [
    "# 100 = dem\n",
    "# 200 = rep "
   ]
  },
  {
   "cell_type": "code",
   "execution_count": 135,
   "metadata": {},
   "outputs": [],
   "source": [
    "party_list = []"
   ]
  },
  {
   "cell_type": "code",
   "execution_count": 136,
   "metadata": {},
   "outputs": [],
   "source": [
    "for party in all_committee_membership_data['party']:\n",
    "    if party == 'R':\n",
    "        party_list.append('R')\n",
    "    elif party == 'D':\n",
    "        party_list.append('D')\n",
    "    elif party == 100:\n",
    "        party_list.append('D')\n",
    "    elif party == 200:\n",
    "        party_list.append('R')\n",
    "    else: party_list.append('other')"
   ]
  },
  {
   "cell_type": "code",
   "execution_count": 137,
   "metadata": {},
   "outputs": [],
   "source": [
    "all_committee_membership_data['party'] = party_list"
   ]
  },
  {
   "cell_type": "code",
   "execution_count": 138,
   "metadata": {
    "scrolled": true
   },
   "outputs": [
    {
     "data": {
      "text/html": [
       "<div>\n",
       "<style scoped>\n",
       "    .dataframe tbody tr th:only-of-type {\n",
       "        vertical-align: middle;\n",
       "    }\n",
       "\n",
       "    .dataframe tbody tr th {\n",
       "        vertical-align: top;\n",
       "    }\n",
       "\n",
       "    .dataframe thead th {\n",
       "        text-align: right;\n",
       "    }\n",
       "</style>\n",
       "<table border=\"1\" class=\"dataframe\">\n",
       "  <thead>\n",
       "    <tr style=\"text-align: right;\">\n",
       "      <th></th>\n",
       "      <th>THOMAS_codes</th>\n",
       "      <th>chamber</th>\n",
       "      <th>congress_number</th>\n",
       "      <th>icpsr_ID</th>\n",
       "      <th>id</th>\n",
       "      <th>party</th>\n",
       "    </tr>\n",
       "  </thead>\n",
       "  <tbody>\n",
       "    <tr>\n",
       "      <th>12</th>\n",
       "      <td>HSAG</td>\n",
       "      <td>house</td>\n",
       "      <td>93.0</td>\n",
       "      <td>13007.0</td>\n",
       "      <td>NaN</td>\n",
       "      <td>other</td>\n",
       "    </tr>\n",
       "    <tr>\n",
       "      <th>204</th>\n",
       "      <td>HSDT</td>\n",
       "      <td>house</td>\n",
       "      <td>93.0</td>\n",
       "      <td>10585.0</td>\n",
       "      <td>NaN</td>\n",
       "      <td>other</td>\n",
       "    </tr>\n",
       "    <tr>\n",
       "      <th>275</th>\n",
       "      <td>HSFA</td>\n",
       "      <td>house</td>\n",
       "      <td>93.0</td>\n",
       "      <td>10585.0</td>\n",
       "      <td>NaN</td>\n",
       "      <td>other</td>\n",
       "    </tr>\n",
       "    <tr>\n",
       "      <th>590</th>\n",
       "      <td>HSPW</td>\n",
       "      <td>house</td>\n",
       "      <td>93.0</td>\n",
       "      <td>789.0</td>\n",
       "      <td>NaN</td>\n",
       "      <td>other</td>\n",
       "    </tr>\n",
       "    <tr>\n",
       "      <th>658</th>\n",
       "      <td>HSSY</td>\n",
       "      <td>house</td>\n",
       "      <td>93.0</td>\n",
       "      <td>13007.0</td>\n",
       "      <td>NaN</td>\n",
       "      <td>other</td>\n",
       "    </tr>\n",
       "    <tr>\n",
       "      <th>732</th>\n",
       "      <td>HSWM</td>\n",
       "      <td>house</td>\n",
       "      <td>93.0</td>\n",
       "      <td>5098.0</td>\n",
       "      <td>NaN</td>\n",
       "      <td>other</td>\n",
       "    </tr>\n",
       "    <tr>\n",
       "      <th>753</th>\n",
       "      <td>HSAG</td>\n",
       "      <td>house</td>\n",
       "      <td>94.0</td>\n",
       "      <td>13007.0</td>\n",
       "      <td>NaN</td>\n",
       "      <td>other</td>\n",
       "    </tr>\n",
       "    <tr>\n",
       "      <th>760</th>\n",
       "      <td>HSAG</td>\n",
       "      <td>house</td>\n",
       "      <td>94.0</td>\n",
       "      <td>14263.0</td>\n",
       "      <td>N000127</td>\n",
       "      <td>other</td>\n",
       "    </tr>\n",
       "    <tr>\n",
       "      <th>959</th>\n",
       "      <td>HSDT</td>\n",
       "      <td>house</td>\n",
       "      <td>94.0</td>\n",
       "      <td>10585.0</td>\n",
       "      <td>NaN</td>\n",
       "      <td>other</td>\n",
       "    </tr>\n",
       "    <tr>\n",
       "      <th>1147</th>\n",
       "      <td>HSIF</td>\n",
       "      <td>house</td>\n",
       "      <td>94.0</td>\n",
       "      <td>10585.0</td>\n",
       "      <td>NaN</td>\n",
       "      <td>other</td>\n",
       "    </tr>\n",
       "    <tr>\n",
       "      <th>1282</th>\n",
       "      <td>HSMM</td>\n",
       "      <td>house</td>\n",
       "      <td>94.0</td>\n",
       "      <td>14265.0</td>\n",
       "      <td>O000006</td>\n",
       "      <td>other</td>\n",
       "    </tr>\n",
       "    <tr>\n",
       "      <th>1345</th>\n",
       "      <td>HSPW</td>\n",
       "      <td>house</td>\n",
       "      <td>94.0</td>\n",
       "      <td>14265.0</td>\n",
       "      <td>O000006</td>\n",
       "      <td>other</td>\n",
       "    </tr>\n",
       "    <tr>\n",
       "      <th>1390</th>\n",
       "      <td>HSSY</td>\n",
       "      <td>house</td>\n",
       "      <td>94.0</td>\n",
       "      <td>13007.0</td>\n",
       "      <td>NaN</td>\n",
       "      <td>other</td>\n",
       "    </tr>\n",
       "    <tr>\n",
       "      <th>1432</th>\n",
       "      <td>HSSM</td>\n",
       "      <td>house</td>\n",
       "      <td>94.0</td>\n",
       "      <td>13007.0</td>\n",
       "      <td>NaN</td>\n",
       "      <td>other</td>\n",
       "    </tr>\n",
       "    <tr>\n",
       "      <th>1444</th>\n",
       "      <td>HSSM</td>\n",
       "      <td>house</td>\n",
       "      <td>94.0</td>\n",
       "      <td>14263.0</td>\n",
       "      <td>N000127</td>\n",
       "      <td>other</td>\n",
       "    </tr>\n",
       "    <tr>\n",
       "      <th>1518</th>\n",
       "      <td>HSWM</td>\n",
       "      <td>house</td>\n",
       "      <td>94.0</td>\n",
       "      <td>5098.0</td>\n",
       "      <td>NaN</td>\n",
       "      <td>other</td>\n",
       "    </tr>\n",
       "    <tr>\n",
       "      <th>1557</th>\n",
       "      <td>HSAG</td>\n",
       "      <td>house</td>\n",
       "      <td>95.0</td>\n",
       "      <td>14263.0</td>\n",
       "      <td>N000127</td>\n",
       "      <td>other</td>\n",
       "    </tr>\n",
       "    <tr>\n",
       "      <th>1720</th>\n",
       "      <td>HSBA</td>\n",
       "      <td>house</td>\n",
       "      <td>95.0</td>\n",
       "      <td>14458.0</td>\n",
       "      <td>V000087</td>\n",
       "      <td>other</td>\n",
       "    </tr>\n",
       "    <tr>\n",
       "      <th>1750</th>\n",
       "      <td>HSBU</td>\n",
       "      <td>house</td>\n",
       "      <td>95.0</td>\n",
       "      <td>10585.0</td>\n",
       "      <td>NaN</td>\n",
       "      <td>other</td>\n",
       "    </tr>\n",
       "    <tr>\n",
       "      <th>1922</th>\n",
       "      <td>HSII</td>\n",
       "      <td>house</td>\n",
       "      <td>95.0</td>\n",
       "      <td>14458.0</td>\n",
       "      <td>V000087</td>\n",
       "      <td>other</td>\n",
       "    </tr>\n",
       "    <tr>\n",
       "      <th>1945</th>\n",
       "      <td>HSIF</td>\n",
       "      <td>house</td>\n",
       "      <td>95.0</td>\n",
       "      <td>10585.0</td>\n",
       "      <td>NaN</td>\n",
       "      <td>other</td>\n",
       "    </tr>\n",
       "    <tr>\n",
       "      <th>2079</th>\n",
       "      <td>HSMM</td>\n",
       "      <td>house</td>\n",
       "      <td>95.0</td>\n",
       "      <td>14265.0</td>\n",
       "      <td>O000006</td>\n",
       "      <td>other</td>\n",
       "    </tr>\n",
       "    <tr>\n",
       "      <th>2135</th>\n",
       "      <td>HSPW</td>\n",
       "      <td>house</td>\n",
       "      <td>95.0</td>\n",
       "      <td>14265.0</td>\n",
       "      <td>O000006</td>\n",
       "      <td>other</td>\n",
       "    </tr>\n",
       "    <tr>\n",
       "      <th>2243</th>\n",
       "      <td>HSSM</td>\n",
       "      <td>house</td>\n",
       "      <td>95.0</td>\n",
       "      <td>14263.0</td>\n",
       "      <td>N000127</td>\n",
       "      <td>other</td>\n",
       "    </tr>\n",
       "    <tr>\n",
       "      <th>2354</th>\n",
       "      <td>HSAG</td>\n",
       "      <td>house</td>\n",
       "      <td>96.0</td>\n",
       "      <td>14263.0</td>\n",
       "      <td>N000127</td>\n",
       "      <td>other</td>\n",
       "    </tr>\n",
       "    <tr>\n",
       "      <th>2421</th>\n",
       "      <td>HSAP</td>\n",
       "      <td>house</td>\n",
       "      <td>96.0</td>\n",
       "      <td>14656.0</td>\n",
       "      <td>S000005</td>\n",
       "      <td>other</td>\n",
       "    </tr>\n",
       "    <tr>\n",
       "      <th>2515</th>\n",
       "      <td>HSBA</td>\n",
       "      <td>house</td>\n",
       "      <td>96.0</td>\n",
       "      <td>14458.0</td>\n",
       "      <td>V000087</td>\n",
       "      <td>other</td>\n",
       "    </tr>\n",
       "    <tr>\n",
       "      <th>2740</th>\n",
       "      <td>HSII</td>\n",
       "      <td>house</td>\n",
       "      <td>96.0</td>\n",
       "      <td>14458.0</td>\n",
       "      <td>V000087</td>\n",
       "      <td>other</td>\n",
       "    </tr>\n",
       "    <tr>\n",
       "      <th>2853</th>\n",
       "      <td>HSMM</td>\n",
       "      <td>house</td>\n",
       "      <td>96.0</td>\n",
       "      <td>14265.0</td>\n",
       "      <td>O000006</td>\n",
       "      <td>other</td>\n",
       "    </tr>\n",
       "    <tr>\n",
       "      <th>2914</th>\n",
       "      <td>HSPW</td>\n",
       "      <td>house</td>\n",
       "      <td>96.0</td>\n",
       "      <td>14265.0</td>\n",
       "      <td>O000006</td>\n",
       "      <td>other</td>\n",
       "    </tr>\n",
       "    <tr>\n",
       "      <th>...</th>\n",
       "      <td>...</td>\n",
       "      <td>...</td>\n",
       "      <td>...</td>\n",
       "      <td>...</td>\n",
       "      <td>...</td>\n",
       "      <td>...</td>\n",
       "    </tr>\n",
       "    <tr>\n",
       "      <th>28593</th>\n",
       "      <td>JSEC</td>\n",
       "      <td>senate</td>\n",
       "      <td>113.0</td>\n",
       "      <td>29147.0</td>\n",
       "      <td>S000033</td>\n",
       "      <td>other</td>\n",
       "    </tr>\n",
       "    <tr>\n",
       "      <th>28665</th>\n",
       "      <td>SSAS</td>\n",
       "      <td>senate</td>\n",
       "      <td>114.0</td>\n",
       "      <td>41300.0</td>\n",
       "      <td>K000383</td>\n",
       "      <td>other</td>\n",
       "    </tr>\n",
       "    <tr>\n",
       "      <th>28703</th>\n",
       "      <td>SSBU</td>\n",
       "      <td>senate</td>\n",
       "      <td>114.0</td>\n",
       "      <td>29147.0</td>\n",
       "      <td>S000033</td>\n",
       "      <td>other</td>\n",
       "    </tr>\n",
       "    <tr>\n",
       "      <th>28712</th>\n",
       "      <td>SSBU</td>\n",
       "      <td>senate</td>\n",
       "      <td>114.0</td>\n",
       "      <td>41300.0</td>\n",
       "      <td>K000383</td>\n",
       "      <td>other</td>\n",
       "    </tr>\n",
       "    <tr>\n",
       "      <th>28751</th>\n",
       "      <td>SSEG</td>\n",
       "      <td>senate</td>\n",
       "      <td>114.0</td>\n",
       "      <td>29147.0</td>\n",
       "      <td>S000033</td>\n",
       "      <td>other</td>\n",
       "    </tr>\n",
       "    <tr>\n",
       "      <th>28757</th>\n",
       "      <td>SSEG</td>\n",
       "      <td>senate</td>\n",
       "      <td>114.0</td>\n",
       "      <td>41300.0</td>\n",
       "      <td>K000383</td>\n",
       "      <td>other</td>\n",
       "    </tr>\n",
       "    <tr>\n",
       "      <th>28774</th>\n",
       "      <td>SSEV</td>\n",
       "      <td>senate</td>\n",
       "      <td>114.0</td>\n",
       "      <td>29147.0</td>\n",
       "      <td>S000033</td>\n",
       "      <td>other</td>\n",
       "    </tr>\n",
       "    <tr>\n",
       "      <th>28874</th>\n",
       "      <td>SSHR</td>\n",
       "      <td>senate</td>\n",
       "      <td>114.0</td>\n",
       "      <td>29147.0</td>\n",
       "      <td>S000033</td>\n",
       "      <td>other</td>\n",
       "    </tr>\n",
       "    <tr>\n",
       "      <th>28901</th>\n",
       "      <td>SSRA</td>\n",
       "      <td>senate</td>\n",
       "      <td>114.0</td>\n",
       "      <td>41300.0</td>\n",
       "      <td>K000383</td>\n",
       "      <td>other</td>\n",
       "    </tr>\n",
       "    <tr>\n",
       "      <th>28933</th>\n",
       "      <td>SSVA</td>\n",
       "      <td>senate</td>\n",
       "      <td>114.0</td>\n",
       "      <td>29147.0</td>\n",
       "      <td>S000033</td>\n",
       "      <td>other</td>\n",
       "    </tr>\n",
       "    <tr>\n",
       "      <th>28971</th>\n",
       "      <td>SLIN</td>\n",
       "      <td>senate</td>\n",
       "      <td>114.0</td>\n",
       "      <td>41300.0</td>\n",
       "      <td>K000383</td>\n",
       "      <td>other</td>\n",
       "    </tr>\n",
       "    <tr>\n",
       "      <th>29091</th>\n",
       "      <td>SSAS</td>\n",
       "      <td>senate</td>\n",
       "      <td>115.0</td>\n",
       "      <td>41300.0</td>\n",
       "      <td>K000383</td>\n",
       "      <td>other</td>\n",
       "    </tr>\n",
       "    <tr>\n",
       "      <th>29132</th>\n",
       "      <td>SSBU</td>\n",
       "      <td>senate</td>\n",
       "      <td>115.0</td>\n",
       "      <td>29147.0</td>\n",
       "      <td>S000033</td>\n",
       "      <td>other</td>\n",
       "    </tr>\n",
       "    <tr>\n",
       "      <th>29140</th>\n",
       "      <td>SSBU</td>\n",
       "      <td>senate</td>\n",
       "      <td>115.0</td>\n",
       "      <td>41300.0</td>\n",
       "      <td>K000383</td>\n",
       "      <td>other</td>\n",
       "    </tr>\n",
       "    <tr>\n",
       "      <th>29185</th>\n",
       "      <td>SSEG</td>\n",
       "      <td>senate</td>\n",
       "      <td>115.0</td>\n",
       "      <td>29147.0</td>\n",
       "      <td>S000033</td>\n",
       "      <td>other</td>\n",
       "    </tr>\n",
       "    <tr>\n",
       "      <th>29191</th>\n",
       "      <td>SSEG</td>\n",
       "      <td>senate</td>\n",
       "      <td>115.0</td>\n",
       "      <td>41300.0</td>\n",
       "      <td>K000383</td>\n",
       "      <td>other</td>\n",
       "    </tr>\n",
       "    <tr>\n",
       "      <th>29209</th>\n",
       "      <td>SSEV</td>\n",
       "      <td>senate</td>\n",
       "      <td>115.0</td>\n",
       "      <td>29147.0</td>\n",
       "      <td>S000033</td>\n",
       "      <td>other</td>\n",
       "    </tr>\n",
       "    <tr>\n",
       "      <th>29312</th>\n",
       "      <td>SSHR</td>\n",
       "      <td>senate</td>\n",
       "      <td>115.0</td>\n",
       "      <td>29147.0</td>\n",
       "      <td>S000033</td>\n",
       "      <td>other</td>\n",
       "    </tr>\n",
       "    <tr>\n",
       "      <th>29341</th>\n",
       "      <td>SSRA</td>\n",
       "      <td>senate</td>\n",
       "      <td>115.0</td>\n",
       "      <td>41300.0</td>\n",
       "      <td>K000383</td>\n",
       "      <td>other</td>\n",
       "    </tr>\n",
       "    <tr>\n",
       "      <th>29373</th>\n",
       "      <td>SSVA</td>\n",
       "      <td>senate</td>\n",
       "      <td>115.0</td>\n",
       "      <td>29147.0</td>\n",
       "      <td>S000033</td>\n",
       "      <td>other</td>\n",
       "    </tr>\n",
       "    <tr>\n",
       "      <th>29407</th>\n",
       "      <td>SLIN</td>\n",
       "      <td>senate</td>\n",
       "      <td>115.0</td>\n",
       "      <td>41300.0</td>\n",
       "      <td>K000383</td>\n",
       "      <td>other</td>\n",
       "    </tr>\n",
       "    <tr>\n",
       "      <th>29533</th>\n",
       "      <td>SSAS</td>\n",
       "      <td>senate</td>\n",
       "      <td>116.0</td>\n",
       "      <td>41300.0</td>\n",
       "      <td>K000383</td>\n",
       "      <td>other</td>\n",
       "    </tr>\n",
       "    <tr>\n",
       "      <th>29605</th>\n",
       "      <td>SSEG</td>\n",
       "      <td>senate</td>\n",
       "      <td>116.0</td>\n",
       "      <td>29147.0</td>\n",
       "      <td>S000033</td>\n",
       "      <td>other</td>\n",
       "    </tr>\n",
       "    <tr>\n",
       "      <th>29613</th>\n",
       "      <td>SSEG</td>\n",
       "      <td>senate</td>\n",
       "      <td>116.0</td>\n",
       "      <td>41300.0</td>\n",
       "      <td>K000383</td>\n",
       "      <td>other</td>\n",
       "    </tr>\n",
       "    <tr>\n",
       "      <th>29623</th>\n",
       "      <td>SSEV</td>\n",
       "      <td>senate</td>\n",
       "      <td>116.0</td>\n",
       "      <td>29147.0</td>\n",
       "      <td>S000033</td>\n",
       "      <td>other</td>\n",
       "    </tr>\n",
       "    <tr>\n",
       "      <th>29692</th>\n",
       "      <td>SSHR</td>\n",
       "      <td>senate</td>\n",
       "      <td>116.0</td>\n",
       "      <td>29147.0</td>\n",
       "      <td>S000033</td>\n",
       "      <td>other</td>\n",
       "    </tr>\n",
       "    <tr>\n",
       "      <th>29754</th>\n",
       "      <td>SSRA</td>\n",
       "      <td>senate</td>\n",
       "      <td>116.0</td>\n",
       "      <td>41300.0</td>\n",
       "      <td>K000383</td>\n",
       "      <td>other</td>\n",
       "    </tr>\n",
       "    <tr>\n",
       "      <th>29778</th>\n",
       "      <td>SSBU</td>\n",
       "      <td>senate</td>\n",
       "      <td>116.0</td>\n",
       "      <td>29147.0</td>\n",
       "      <td>S000033</td>\n",
       "      <td>other</td>\n",
       "    </tr>\n",
       "    <tr>\n",
       "      <th>29825</th>\n",
       "      <td>SSVA</td>\n",
       "      <td>senate</td>\n",
       "      <td>116.0</td>\n",
       "      <td>29147.0</td>\n",
       "      <td>S000033</td>\n",
       "      <td>other</td>\n",
       "    </tr>\n",
       "    <tr>\n",
       "      <th>29852</th>\n",
       "      <td>SLIN</td>\n",
       "      <td>senate</td>\n",
       "      <td>116.0</td>\n",
       "      <td>41300.0</td>\n",
       "      <td>K000383</td>\n",
       "      <td>other</td>\n",
       "    </tr>\n",
       "  </tbody>\n",
       "</table>\n",
       "<p>175 rows × 6 columns</p>\n",
       "</div>"
      ],
      "text/plain": [
       "      THOMAS_codes chamber  congress_number  icpsr_ID       id  party\n",
       "12            HSAG   house             93.0   13007.0      NaN  other\n",
       "204           HSDT   house             93.0   10585.0      NaN  other\n",
       "275           HSFA   house             93.0   10585.0      NaN  other\n",
       "590           HSPW   house             93.0     789.0      NaN  other\n",
       "658           HSSY   house             93.0   13007.0      NaN  other\n",
       "732           HSWM   house             93.0    5098.0      NaN  other\n",
       "753           HSAG   house             94.0   13007.0      NaN  other\n",
       "760           HSAG   house             94.0   14263.0  N000127  other\n",
       "959           HSDT   house             94.0   10585.0      NaN  other\n",
       "1147          HSIF   house             94.0   10585.0      NaN  other\n",
       "1282          HSMM   house             94.0   14265.0  O000006  other\n",
       "1345          HSPW   house             94.0   14265.0  O000006  other\n",
       "1390          HSSY   house             94.0   13007.0      NaN  other\n",
       "1432          HSSM   house             94.0   13007.0      NaN  other\n",
       "1444          HSSM   house             94.0   14263.0  N000127  other\n",
       "1518          HSWM   house             94.0    5098.0      NaN  other\n",
       "1557          HSAG   house             95.0   14263.0  N000127  other\n",
       "1720          HSBA   house             95.0   14458.0  V000087  other\n",
       "1750          HSBU   house             95.0   10585.0      NaN  other\n",
       "1922          HSII   house             95.0   14458.0  V000087  other\n",
       "1945          HSIF   house             95.0   10585.0      NaN  other\n",
       "2079          HSMM   house             95.0   14265.0  O000006  other\n",
       "2135          HSPW   house             95.0   14265.0  O000006  other\n",
       "2243          HSSM   house             95.0   14263.0  N000127  other\n",
       "2354          HSAG   house             96.0   14263.0  N000127  other\n",
       "2421          HSAP   house             96.0   14656.0  S000005  other\n",
       "2515          HSBA   house             96.0   14458.0  V000087  other\n",
       "2740          HSII   house             96.0   14458.0  V000087  other\n",
       "2853          HSMM   house             96.0   14265.0  O000006  other\n",
       "2914          HSPW   house             96.0   14265.0  O000006  other\n",
       "...            ...     ...              ...       ...      ...    ...\n",
       "28593         JSEC  senate            113.0   29147.0  S000033  other\n",
       "28665         SSAS  senate            114.0   41300.0  K000383  other\n",
       "28703         SSBU  senate            114.0   29147.0  S000033  other\n",
       "28712         SSBU  senate            114.0   41300.0  K000383  other\n",
       "28751         SSEG  senate            114.0   29147.0  S000033  other\n",
       "28757         SSEG  senate            114.0   41300.0  K000383  other\n",
       "28774         SSEV  senate            114.0   29147.0  S000033  other\n",
       "28874         SSHR  senate            114.0   29147.0  S000033  other\n",
       "28901         SSRA  senate            114.0   41300.0  K000383  other\n",
       "28933         SSVA  senate            114.0   29147.0  S000033  other\n",
       "28971         SLIN  senate            114.0   41300.0  K000383  other\n",
       "29091         SSAS  senate            115.0   41300.0  K000383  other\n",
       "29132         SSBU  senate            115.0   29147.0  S000033  other\n",
       "29140         SSBU  senate            115.0   41300.0  K000383  other\n",
       "29185         SSEG  senate            115.0   29147.0  S000033  other\n",
       "29191         SSEG  senate            115.0   41300.0  K000383  other\n",
       "29209         SSEV  senate            115.0   29147.0  S000033  other\n",
       "29312         SSHR  senate            115.0   29147.0  S000033  other\n",
       "29341         SSRA  senate            115.0   41300.0  K000383  other\n",
       "29373         SSVA  senate            115.0   29147.0  S000033  other\n",
       "29407         SLIN  senate            115.0   41300.0  K000383  other\n",
       "29533         SSAS  senate            116.0   41300.0  K000383  other\n",
       "29605         SSEG  senate            116.0   29147.0  S000033  other\n",
       "29613         SSEG  senate            116.0   41300.0  K000383  other\n",
       "29623         SSEV  senate            116.0   29147.0  S000033  other\n",
       "29692         SSHR  senate            116.0   29147.0  S000033  other\n",
       "29754         SSRA  senate            116.0   41300.0  K000383  other\n",
       "29778         SSBU  senate            116.0   29147.0  S000033  other\n",
       "29825         SSVA  senate            116.0   29147.0  S000033  other\n",
       "29852         SLIN  senate            116.0   41300.0  K000383  other\n",
       "\n",
       "[175 rows x 6 columns]"
      ]
     },
     "execution_count": 138,
     "metadata": {},
     "output_type": "execute_result"
    }
   ],
   "source": [
    "all_committee_membership_data[all_committee_membership_data['party'] == 'other']"
   ]
  },
  {
   "cell_type": "code",
   "execution_count": 139,
   "metadata": {
    "scrolled": true
   },
   "outputs": [
    {
     "data": {
      "text/plain": [
       "THOMAS_codes         22\n",
       "chamber               0\n",
       "congress_number       0\n",
       "icpsr_ID            430\n",
       "id                 5169\n",
       "party                 0\n",
       "dtype: int64"
      ]
     },
     "execution_count": 139,
     "metadata": {},
     "output_type": "execute_result"
    }
   ],
   "source": [
    "all_committee_membership_data.isna().sum()"
   ]
  },
  {
   "cell_type": "code",
   "execution_count": 170,
   "metadata": {},
   "outputs": [],
   "source": [
    "all_null = all_committee_membership_data[\n",
    "    all_committee_membership_data.isnull().any(axis=1)]\n"
   ]
  },
  {
   "cell_type": "code",
   "execution_count": 176,
   "metadata": {
    "scrolled": true
   },
   "outputs": [],
   "source": [
    "all_null = all_null.reset_index(drop=True)"
   ]
  },
  {
   "cell_type": "code",
   "execution_count": 177,
   "metadata": {},
   "outputs": [],
   "source": [
    "def double_null_detector(df):\n",
    "    double_nulls = []\n",
    "    for i in range(len(df)):\n",
    "        if df['icpsr_ID'][i] == df['id'][i]:\n",
    "            double_nulls.append(1)\n",
    "        else:\n",
    "            double_nulls.append(0)\n",
    "    return double_nulls\n",
    "            "
   ]
  },
  {
   "cell_type": "code",
   "execution_count": 178,
   "metadata": {},
   "outputs": [],
   "source": [
    "test_nulls = double_null_detector(all_null)"
   ]
  },
  {
   "cell_type": "code",
   "execution_count": 181,
   "metadata": {
    "scrolled": false
   },
   "outputs": [
    {
     "data": {
      "text/plain": [
       "5621"
      ]
     },
     "execution_count": 181,
     "metadata": {},
     "output_type": "execute_result"
    }
   ],
   "source": [
    "len(test_nulls)"
   ]
  },
  {
   "cell_type": "code",
   "execution_count": 182,
   "metadata": {},
   "outputs": [
    {
     "data": {
      "text/plain": [
       "5621"
      ]
     },
     "execution_count": 182,
     "metadata": {},
     "output_type": "execute_result"
    }
   ],
   "source": [
    "len(all_null)"
   ]
  },
  {
   "cell_type": "code",
   "execution_count": 184,
   "metadata": {},
   "outputs": [],
   "source": [
    "all_null['double_nulls'] = test_nulls"
   ]
  },
  {
   "cell_type": "code",
   "execution_count": 186,
   "metadata": {},
   "outputs": [
    {
     "data": {
      "text/plain": [
       "array([0])"
      ]
     },
     "execution_count": 186,
     "metadata": {},
     "output_type": "execute_result"
    }
   ],
   "source": [
    "all_null['double_nulls'].unique()"
   ]
  },
  {
   "cell_type": "code",
   "execution_count": 187,
   "metadata": {},
   "outputs": [],
   "source": [
    "all_committee_membership_data.to_csv('all_committee_data.csv', index=False)"
   ]
  },
  {
   "cell_type": "code",
   "execution_count": 188,
   "metadata": {},
   "outputs": [],
   "source": [
    "def stratify_committees(df, first_congress, last_congress):\n",
    "    file_count = 0\n",
    "    for i in range(first_congress, last_congress+1):\n",
    "        sub_frame = df[df['congress_number'] == i].reset_index(drop=True)\n",
    "        sub_frame.to_csv(('congress_' + str(i) + '_committees.csv'), index=False)\n",
    "        print (('Saving congress_' + str(i) + '_committees.csv...'))\n",
    "        file_count+=1\n",
    "    print ('Complete.')\n",
    "    print (file_count, 'file(s) saved.')"
   ]
  },
  {
   "cell_type": "code",
   "execution_count": 189,
   "metadata": {},
   "outputs": [
    {
     "name": "stdout",
     "output_type": "stream",
     "text": [
      "Saving congress_93_committees.csv...\n",
      "Saving congress_94_committees.csv...\n",
      "Saving congress_95_committees.csv...\n",
      "Saving congress_96_committees.csv...\n",
      "Saving congress_97_committees.csv...\n",
      "Saving congress_98_committees.csv...\n",
      "Saving congress_99_committees.csv...\n",
      "Saving congress_100_committees.csv...\n",
      "Saving congress_101_committees.csv...\n",
      "Saving congress_102_committees.csv...\n",
      "Saving congress_103_committees.csv...\n",
      "Saving congress_104_committees.csv...\n",
      "Saving congress_105_committees.csv...\n",
      "Saving congress_106_committees.csv...\n",
      "Saving congress_107_committees.csv...\n",
      "Saving congress_108_committees.csv...\n",
      "Saving congress_109_committees.csv...\n",
      "Saving congress_110_committees.csv...\n",
      "Saving congress_111_committees.csv...\n",
      "Saving congress_112_committees.csv...\n",
      "Saving congress_113_committees.csv...\n",
      "Saving congress_114_committees.csv...\n",
      "Saving congress_115_committees.csv...\n",
      "Saving congress_116_committees.csv...\n",
      "Complete.\n",
      "24 file(s) saved.\n"
     ]
    }
   ],
   "source": [
    "stratify_committees(all_committee_membership_data, 93, 116)"
   ]
  },
  {
   "cell_type": "code",
   "execution_count": null,
   "metadata": {},
   "outputs": [],
   "source": []
  }
 ],
 "metadata": {
  "kernelspec": {
   "display_name": "Python 3",
   "language": "python",
   "name": "python3"
  },
  "language_info": {
   "codemirror_mode": {
    "name": "ipython",
    "version": 3
   },
   "file_extension": ".py",
   "mimetype": "text/x-python",
   "name": "python",
   "nbconvert_exporter": "python",
   "pygments_lexer": "ipython3",
   "version": "3.7.1"
  }
 },
 "nbformat": 4,
 "nbformat_minor": 2
}
